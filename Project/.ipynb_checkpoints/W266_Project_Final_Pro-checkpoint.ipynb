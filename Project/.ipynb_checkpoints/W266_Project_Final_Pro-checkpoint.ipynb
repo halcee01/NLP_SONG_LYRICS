{
 "cells": [
  {
   "cell_type": "code",
   "execution_count": 5,
   "metadata": {
    "id": "jUNPZ3iRtBQK"
   },
   "outputs": [],
   "source": [
    "#@title Installs\n",
    "\n",
    "!pip install pydot --quiet\n",
    "!pip install gensim==3.8.3 --quiet\n",
    "!pip install tensorflow-datasets --quiet\n",
    "!pip install -U tensorflow-text==2.8.2 --quiet\n",
    "!pip install transformers --quiet"
   ]
  },
  {
   "cell_type": "markdown",
   "metadata": {
    "id": "XVtrnlYmqc9U"
   },
   "source": [
    "Importing needed packages"
   ]
  },
  {
   "cell_type": "code",
   "execution_count": 6,
   "metadata": {
    "id": "14ap6yfkudMF"
   },
   "outputs": [],
   "source": [
    "#@title Imports\n",
    "\n",
    "import numpy as np\n",
    "import tensorflow as tf\n",
    "import seaborn as sns\n",
    "import matplotlib.pyplot as plt\n",
    "from tensorflow import keras \n",
    "import scipy.stats as stats\n",
    "from tensorflow.keras.layers import Embedding, Input, Dense, Lambda\n",
    "from tensorflow.keras.models import Model\n",
    "import tensorflow.keras.backend as K\n",
    "import tensorflow_datasets as tfds\n",
    "import pandas as pd\n",
    "from sklearn.metrics import accuracy_score, precision_score, recall_score, roc_auc_score\n",
    "from numpy.random import seed\n",
    "from keras.models import Sequential\n",
    "from keras.layers import Dense\n",
    "from keras.layers import LSTM\n",
    "from keras.layers import Dropout\n",
    "from transformers import BertTokenizer, TFBertModel, TFBertForSequenceClassification\n",
    "import sklearn as sk\n",
    "import os\n",
    "import nltk\n",
    "from nltk.data import find\n",
    "import matplotlib.pyplot as plt\n",
    "import re\n",
    "import gensim\n"
   ]
  },
  {
   "cell_type": "markdown",
   "metadata": {
    "id": "yXS26ReUqnMX"
   },
   "source": [
    "Loaded collected datasets. \"muse_lyrics\" is the data set with the collection of lyrics by song and artist. \"muse_tracks\" is the original dataset that consist of 90K songs with valence of each song. \"billboard_lyrics\" is the dataset we'll compare distributions. Its the 100 Top Billboards songs from 1965 to 2015."
   ]
  },
  {
   "cell_type": "code",
   "execution_count": 7,
   "metadata": {
    "id": "LZo-EPcPfes2"
   },
   "outputs": [],
   "source": [
    "muse_lyrics = pd.read_csv('muse_final.csv')\n",
    "muse_tracks = pd.read_csv('muse_v3.csv')\n",
    "billboard_lyrics = pd.read_csv('LIWC.csv')\n",
    "tracks = pd.read_csv('tracks.csv')"
   ]
  },
  {
   "cell_type": "markdown",
   "metadata": {
    "id": "b03oAVLDsj9b"
   },
   "source": [
    "Creating probability column for the billboard lyrics dataset."
   ]
  },
  {
   "cell_type": "code",
   "execution_count": 8,
   "metadata": {
    "id": "lutBE5vbISoK"
   },
   "outputs": [],
   "source": [
    "billboard_lyrics['prob'] = billboard_lyrics['tone_pos'].fillna(0)/billboard_lyrics[['tone_pos','tone_neg']].fillna(0).sum(axis=1)\n",
    "billboard_lyrics['prob'] = billboard_lyrics['prob'].fillna(0)\n"
   ]
  },
  {
   "cell_type": "markdown",
   "metadata": {
    "id": "C-kBpq-hzvWy"
   },
   "source": [
    "Renaming columns"
   ]
  },
  {
   "cell_type": "code",
   "execution_count": 9,
   "metadata": {
    "id": "xp7Ma9hzhkYo"
   },
   "outputs": [],
   "source": [
    "muse_lyrics.rename(columns={'muse.track':'track','muse.artist':'artist'}, inplace=True)"
   ]
  },
  {
   "cell_type": "code",
   "execution_count": 10,
   "metadata": {
    "id": "PpO8xotLgPnN"
   },
   "outputs": [],
   "source": [
    "muse_lyrics.set_index(['track','artist'],inplace=True)\n",
    "muse_tracks.set_index(['track','artist'],inplace=True)"
   ]
  },
  {
   "cell_type": "markdown",
   "metadata": {
    "id": "5QkbigR80F0o"
   },
   "source": [
    "Joining music_tracks to music_lyrics to capture any associated lyrics available along with relevant song information (i.e. valence)"
   ]
  },
  {
   "cell_type": "code",
   "execution_count": 11,
   "metadata": {
    "id": "rPme5K7qg137"
   },
   "outputs": [],
   "source": [
    "muse_main = muse_tracks.join(muse_lyrics, on = ['track','artist'],how='inner').reset_index()"
   ]
  },
  {
   "cell_type": "markdown",
   "metadata": {
    "id": "aqe0CtR92DR0"
   },
   "source": [
    "Creating binary targets for valence_tags"
   ]
  },
  {
   "cell_type": "code",
   "execution_count": 12,
   "metadata": {
    "id": "j8-i390Rihtf"
   },
   "outputs": [],
   "source": [
    "valence_condition = ((muse_main['valence_tags']>=5))\n",
    "muse_main.loc[valence_condition,'target_sentiment'] = 1\n",
    "valence_condition = ((muse_main['valence_tags']<5))\n",
    "muse_main.loc[valence_condition,'target_sentiment'] = 0\n",
    "muse_main['target_sentiment'] = muse_main['target_sentiment'].astype(int)"
   ]
  },
  {
   "cell_type": "markdown",
   "metadata": {
    "id": "JLASZRcj5ALR"
   },
   "source": [
    "Removing any punctuations in the lyrics"
   ]
  },
  {
   "cell_type": "code",
   "execution_count": 13,
   "metadata": {
    "colab": {
     "base_uri": "https://localhost:8080/"
    },
    "id": "awhEg3Rd5w3-",
    "outputId": "cab4c5e0-f889-47e4-d3ae-011bf3c3afb8"
   },
   "outputs": [
    {
     "name": "stderr",
     "output_type": "stream",
     "text": [
      "/usr/local/lib/python3.7/dist-packages/ipykernel_launcher.py:6: FutureWarning: The default value of regex will change from True to False in a future version. In addition, single character regular expressions will *not* be treated as literal strings when regex=True.\n",
      "  \n",
      "/usr/local/lib/python3.7/dist-packages/ipykernel_launcher.py:7: FutureWarning: The default value of regex will change from True to False in a future version. In addition, single character regular expressions will *not* be treated as literal strings when regex=True.\n",
      "  import sys\n"
     ]
    }
   ],
   "source": [
    "muse_main['lyrics']= (muse_main['lyrics']\n",
    " .str.lower()\n",
    " .str.replace('!','')\n",
    " .str.replace(',','')\n",
    " .str.replace('/','')\n",
    " .str.replace('(','')\n",
    " .str.replace(')',''))"
   ]
  },
  {
   "cell_type": "code",
   "execution_count": 14,
   "metadata": {
    "colab": {
     "base_uri": "https://localhost:8080/"
    },
    "id": "4B11eIgt7CWh",
    "outputId": "8c93b21a-6bd6-4156-f4ca-7ab675890c2b"
   },
   "outputs": [
    {
     "data": {
      "text/plain": [
       "0       'cause sometimes you just feel tired yo left y...\n",
       "1       saint anger 'round my neck saint anger 'round ...\n",
       "2       legendary runners you know me trilla every dol...\n",
       "3       die i don't need your forgiveness i don't need...\n",
       "4       one two three go broken yeah you been living o...\n",
       "                              ...                        \n",
       "2297    i've been alive forever and i wrote the very f...\n",
       "2298    here we through the sea lips and through the n...\n",
       "2299    she came on like the night and she held on tig...\n",
       "2300    ah ah you’re beautiful yeah ah ah you’re beaut...\n",
       "2301    stressed out uptight overworked riled up unlea...\n",
       "Name: lyrics, Length: 2302, dtype: object"
      ]
     },
     "execution_count": 14,
     "metadata": {},
     "output_type": "execute_result"
    }
   ],
   "source": [
    "muse_main['lyrics']"
   ]
  },
  {
   "cell_type": "markdown",
   "metadata": {
    "id": "wmjPM530BDWz"
   },
   "source": [
    "Train-dev-test split with a 70-30 then 50-50 split respectively"
   ]
  },
  {
   "cell_type": "code",
   "execution_count": 15,
   "metadata": {
    "id": "fTXKkyHumTLn"
   },
   "outputs": [],
   "source": [
    "from sklearn.model_selection import train_test_split\n",
    "\n",
    "X_train, X_test, y_train, y_test = train_test_split(muse_main['lyrics'], muse_main['target_sentiment'], test_size=0.30, random_state=42)\n",
    "X_dev, X_test, y_dev, y_test = train_test_split(X_test, y_test, test_size=0.50, random_state=42)"
   ]
  },
  {
   "cell_type": "markdown",
   "metadata": {
    "id": "WvgUamEqB76V"
   },
   "source": [
    "Loading Bert Tokenizer"
   ]
  },
  {
   "cell_type": "code",
   "execution_count": 16,
   "metadata": {
    "colab": {
     "base_uri": "https://localhost:8080/",
     "height": 113,
     "referenced_widgets": [
      "1b936e63561d49389badd8d63ba45bc5",
      "25bb15117c274a02bb4bf5d14ecc6db8",
      "4a593f7572e04bfc8e364c357e17cf37",
      "963a7708cbb94747a389b9bd2df78244",
      "67eda765b85248ac884a9d6ffa0366d2",
      "03307526555746109cc5fb259b6f6d8a",
      "9cab190546004537a838a5b3917a995e",
      "a83dab10441d4e0d888af05f5fa55be8",
      "10f3db2d634748028e808163e5569973",
      "76aedae484b04866a06a225615ac3a93",
      "a3a075e2a7b44e6faaab1482a41f327f",
      "40aadc706ed14102be8d00d8af997a9f",
      "ba511777b7434f7baaa95b209a9b2280",
      "8bd8a606c2e745f097e12b81750b0909",
      "03a92f1c7c9d4e68ae5bcd0bcb09f4f9",
      "05bbed30535f43b0abca37362e834462",
      "e16150386d544f3e8d6002be8be17f8a",
      "722547d78984496c9addc92ef9dec128",
      "34b62ccda42945df98264f9576b2f322",
      "088c938bd7334a7c8d0e248041360383",
      "273e3d858c40498a97c543fecd129fd9",
      "833220ee445148db97e1af3947be6e33",
      "c7d9f3fddd2b4c5db94a7f57b4af2a92",
      "cab1bef02ba9435a837e05ca34f8aea7",
      "33e468559868434bb6e72c3e4378858f",
      "5886a5cc938d44ce9f2ab4d03449ac08",
      "9219e883be89455999041cfc20192f8f",
      "2cf641e6a12b403689f34b8b4fdf0e84",
      "be52489069254091b0f36600c671ec14",
      "5e3e908f505c4a90819ff86dbb9f5bc1",
      "50ec98d080854186ab72d45921873839",
      "46a8a5dcfa7e46a698f71f29777a11c2",
      "227b8b72b0df47059a8f6e60b037e492"
     ]
    },
    "id": "XDnJJ7AZrgSW",
    "outputId": "3de298a8-44ef-4ca3-f9f5-42b6fddf1af6"
   },
   "outputs": [
    {
     "data": {
      "application/vnd.jupyter.widget-view+json": {
       "model_id": "1b936e63561d49389badd8d63ba45bc5",
       "version_major": 2,
       "version_minor": 0
      },
      "text/plain": [
       "Downloading:   0%|          | 0.00/232k [00:00<?, ?B/s]"
      ]
     },
     "metadata": {},
     "output_type": "display_data"
    },
    {
     "data": {
      "application/vnd.jupyter.widget-view+json": {
       "model_id": "40aadc706ed14102be8d00d8af997a9f",
       "version_major": 2,
       "version_minor": 0
      },
      "text/plain": [
       "Downloading:   0%|          | 0.00/28.0 [00:00<?, ?B/s]"
      ]
     },
     "metadata": {},
     "output_type": "display_data"
    },
    {
     "data": {
      "application/vnd.jupyter.widget-view+json": {
       "model_id": "c7d9f3fddd2b4c5db94a7f57b4af2a92",
       "version_major": 2,
       "version_minor": 0
      },
      "text/plain": [
       "Downloading:   0%|          | 0.00/570 [00:00<?, ?B/s]"
      ]
     },
     "metadata": {},
     "output_type": "display_data"
    }
   ],
   "source": [
    "bert_tokenizer = BertTokenizer.from_pretrained('bert-base-uncased')"
   ]
  },
  {
   "cell_type": "code",
   "execution_count": 17,
   "metadata": {
    "colab": {
     "base_uri": "https://localhost:8080/"
    },
    "id": "0LDw54CEgdSY",
    "outputId": "e4cbca81-c913-4d39-a53d-384bc78b8f89"
   },
   "outputs": [
    {
     "name": "stderr",
     "output_type": "stream",
     "text": [
      "/usr/local/lib/python3.7/dist-packages/ipykernel_launcher.py:1: DeprecationWarning: `np.str` is a deprecated alias for the builtin `str`. To silence this warning, use `str` by itself. Doing this will not modify any behavior and is safe. If you specifically wanted the numpy scalar type, use `np.str_` here.\n",
      "Deprecated in NumPy 1.20; for more details and guidance: https://numpy.org/devdocs/release/1.20.0-notes.html#deprecations\n",
      "  \"\"\"Entry point for launching an IPython kernel.\n"
     ]
    }
   ],
   "source": [
    "list_of_lyrics = [x for x in np.asarray(muse_main['lyrics']).astype(np.str)]"
   ]
  },
  {
   "cell_type": "code",
   "execution_count": 18,
   "metadata": {
    "colab": {
     "base_uri": "https://localhost:8080/"
    },
    "id": "7-o-DQI3me2E",
    "outputId": "30327db7-1815-4f6d-e0e0-7522112005f3"
   },
   "outputs": [
    {
     "name": "stderr",
     "output_type": "stream",
     "text": [
      "/usr/local/lib/python3.7/dist-packages/ipykernel_launcher.py:1: DeprecationWarning: `np.str` is a deprecated alias for the builtin `str`. To silence this warning, use `str` by itself. Doing this will not modify any behavior and is safe. If you specifically wanted the numpy scalar type, use `np.str_` here.\n",
      "Deprecated in NumPy 1.20; for more details and guidance: https://numpy.org/devdocs/release/1.20.0-notes.html#deprecations\n",
      "  \"\"\"Entry point for launching an IPython kernel.\n",
      "/usr/local/lib/python3.7/dist-packages/ipykernel_launcher.py:2: DeprecationWarning: `np.str` is a deprecated alias for the builtin `str`. To silence this warning, use `str` by itself. Doing this will not modify any behavior and is safe. If you specifically wanted the numpy scalar type, use `np.str_` here.\n",
      "Deprecated in NumPy 1.20; for more details and guidance: https://numpy.org/devdocs/release/1.20.0-notes.html#deprecations\n",
      "  \n",
      "/usr/local/lib/python3.7/dist-packages/ipykernel_launcher.py:3: DeprecationWarning: `np.str` is a deprecated alias for the builtin `str`. To silence this warning, use `str` by itself. Doing this will not modify any behavior and is safe. If you specifically wanted the numpy scalar type, use `np.str_` here.\n",
      "Deprecated in NumPy 1.20; for more details and guidance: https://numpy.org/devdocs/release/1.20.0-notes.html#deprecations\n",
      "  This is separate from the ipykernel package so we can avoid doing imports until\n",
      "/usr/local/lib/python3.7/dist-packages/ipykernel_launcher.py:4: DeprecationWarning: `np.str` is a deprecated alias for the builtin `str`. To silence this warning, use `str` by itself. Doing this will not modify any behavior and is safe. If you specifically wanted the numpy scalar type, use `np.str_` here.\n",
      "Deprecated in NumPy 1.20; for more details and guidance: https://numpy.org/devdocs/release/1.20.0-notes.html#deprecations\n",
      "  after removing the cwd from sys.path.\n"
     ]
    }
   ],
   "source": [
    "list_X_train = [x for x in np.asarray(X_train).astype(np.str)]\n",
    "list_X_dev = [x for x in np.asarray(X_dev).astype(np.str)]\n",
    "list_X_test = [x for x in np.asarray(X_test).astype(np.str)]\n",
    "list_billboard_lyrics = [x for x in np.asarray(billboard_lyrics['Lyrics']).astype(np.str)]"
   ]
  },
  {
   "cell_type": "code",
   "execution_count": 19,
   "metadata": {
    "id": "qveKLqd0jy9G"
   },
   "outputs": [],
   "source": [
    "billboard_target = [\n",
    "    1 if prob > 0.5 else 0 for prob in np.ravel(billboard_lyrics['prob'])\n",
    "]"
   ]
  },
  {
   "cell_type": "code",
   "execution_count": 20,
   "metadata": {
    "id": "DLWME9IhgwJI"
   },
   "outputs": [],
   "source": [
    "bert_lyrics_billboard = (bert_tokenizer(list_billboard_lyrics, \n",
    "              truncation=True,\n",
    "              padding=True,\n",
    "              return_tensors='tf'))"
   ]
  },
  {
   "cell_type": "code",
   "execution_count": 21,
   "metadata": {
    "id": "vdpvLeYoiB9g"
   },
   "outputs": [],
   "source": [
    "bert_X_train = (bert_tokenizer(list_X_train, \n",
    "              truncation=True,\n",
    "              padding=True,\n",
    "              return_tensors='tf'))\n",
    "bert_X_dev = (bert_tokenizer(list_X_dev, \n",
    "              truncation=True,\n",
    "              padding=True,\n",
    "              return_tensors='tf'))\n",
    "bert_X_test = (bert_tokenizer(list_X_test, \n",
    "              truncation=True,\n",
    "              padding=True,\n",
    "              return_tensors='tf'))\n"
   ]
  },
  {
   "cell_type": "markdown",
   "metadata": {
    "id": "19dQ4uLwhV0c"
   },
   "source": [
    "Using functions to capture only relevant input ids. The \"billboard\" function maintains the probability column after filtering to relvent input ids"
   ]
  },
  {
   "cell_type": "code",
   "execution_count": 22,
   "metadata": {
    "id": "tbRD2ot-puMp"
   },
   "outputs": [],
   "source": [
    "def select_min_length_examples_billboard(x_data, y_data, prob):\n",
    "\n",
    "  x_input_ids = []\n",
    "  y_labels = []\n",
    "  main_prob = []\n",
    "\n",
    "  for ((input_ids, masks), label) in zip(zip(x_data['input_ids'], x_data['attention_mask']), y_data):\n",
    "    if masks[-1] == 1:\n",
    "      x_input_ids.append(input_ids)\n",
    "      y_labels.append(label)\n",
    "\n",
    "  for (num, masks) in enumerate(x_data['attention_mask']):\n",
    "    if masks[-1] == 1:\n",
    "      main_prob.append(prob[num])\n",
    "      \n",
    "\n",
    "  return np.array(x_input_ids), np.array(y_labels), np.array(main_prob)"
   ]
  },
  {
   "cell_type": "code",
   "execution_count": 23,
   "metadata": {
    "id": "B9-k_TT9hrB5"
   },
   "outputs": [],
   "source": [
    "def select_min_length_examples(x_data, y_data,lyrics):\n",
    "\n",
    "  x_input_ids = []\n",
    "  y_labels = []\n",
    "  main_prob = []\n",
    "  lyrics_vals = []\n",
    "\n",
    "  for ((input_ids, masks), label) in zip(zip(x_data['input_ids'], x_data['attention_mask']), y_data):\n",
    "    if masks[-1] == 1:\n",
    "      x_input_ids.append(input_ids)\n",
    "      y_labels.append(label)\n",
    "\n",
    "  for (num, masks) in enumerate(x_data['attention_mask']):\n",
    "    if masks[-1] == 1:\n",
    "      lyrics_vals.append(lyrics[num])\n",
    "      \n",
    "\n",
    "  return np.array(x_input_ids), np.array(y_labels), np.array(lyrics_vals)"
   ]
  },
  {
   "cell_type": "code",
   "execution_count": 24,
   "metadata": {
    "id": "CrD31S0yhEW2"
   },
   "outputs": [],
   "source": [
    "billboard_input_ids, billboard_labels, billboard_probs = select_min_length_examples_billboard(bert_lyrics_billboard,billboard_target,billboard_lyrics['prob'])"
   ]
  },
  {
   "cell_type": "code",
   "execution_count": 25,
   "metadata": {
    "id": "zkSchWPfpA8I"
   },
   "outputs": [],
   "source": [
    "bert_train_input_ids, bert_train_labels, bert_train_lyrics = select_min_length_examples(bert_X_train,y_train,list_X_train)\n",
    "bert_dev_input_ids, bert_dev_labels, bert_dev_lyrics = select_min_length_examples(bert_X_dev,y_dev,list_X_dev)\n",
    "bert_test_input_ids, bert_test_labels, bert_test_lyrics = select_min_length_examples(bert_X_test,y_test,list_X_test)"
   ]
  },
  {
   "cell_type": "markdown",
   "metadata": {
    "id": "B_EY4s1Nnl7p"
   },
   "source": [
    "Loading Bert pretrained model"
   ]
  },
  {
   "cell_type": "code",
   "execution_count": 26,
   "metadata": {
    "colab": {
     "base_uri": "https://localhost:8080/",
     "height": 154,
     "referenced_widgets": [
      "b755540d9a254d51b3cc33a3d2c68218",
      "4bf2da63059f4dff8cda8a8a60c3752f",
      "dd79f6f3767b4337bae4f1e73016a467",
      "70469565e16b404397d9ec5619003e86",
      "662d22e624d7449f9b0dff075b9f79fb",
      "b4bf9da5fea444a485916c58be805643",
      "0894ca05574d409ba1bc33ce260ead77",
      "425a03a4854f43c6a155999482988135",
      "367ca629d50a49ce8011e5957c9572ec",
      "e8d58127ccb142cf9a3da9a4d592aa46",
      "aa87520cbc8743e795a3ec85f4882a06"
     ]
    },
    "id": "dlHDnC7NrgQ1",
    "outputId": "ef1054b7-26a9-45a5-a209-be84201d0acd"
   },
   "outputs": [
    {
     "data": {
      "application/vnd.jupyter.widget-view+json": {
       "model_id": "b755540d9a254d51b3cc33a3d2c68218",
       "version_major": 2,
       "version_minor": 0
      },
      "text/plain": [
       "Downloading:   0%|          | 0.00/536M [00:00<?, ?B/s]"
      ]
     },
     "metadata": {},
     "output_type": "display_data"
    },
    {
     "name": "stderr",
     "output_type": "stream",
     "text": [
      "Some layers from the model checkpoint at bert-base-uncased were not used when initializing TFBertModel: ['nsp___cls', 'mlm___cls']\n",
      "- This IS expected if you are initializing TFBertModel from the checkpoint of a model trained on another task or with another architecture (e.g. initializing a BertForSequenceClassification model from a BertForPreTraining model).\n",
      "- This IS NOT expected if you are initializing TFBertModel from the checkpoint of a model that you expect to be exactly identical (initializing a BertForSequenceClassification model from a BertForSequenceClassification model).\n",
      "All the layers of TFBertModel were initialized from the model checkpoint at bert-base-uncased.\n",
      "If your task is similar to the task the model of the checkpoint was trained on, you can already use TFBertModel for predictions without further training.\n"
     ]
    }
   ],
   "source": [
    "bert_model = TFBertModel.from_pretrained('bert-base-uncased')"
   ]
  },
  {
   "cell_type": "code",
   "execution_count": 27,
   "metadata": {
    "id": "pVhruE1Pu5C8"
   },
   "outputs": [],
   "source": [
    "max_length = 512"
   ]
  },
  {
   "cell_type": "markdown",
   "metadata": {
    "id": "NbDGytzWn9En"
   },
   "source": [
    "Setting up LSTM Model"
   ]
  },
  {
   "cell_type": "code",
   "execution_count": 28,
   "metadata": {
    "colab": {
     "base_uri": "https://localhost:8080/"
    },
    "id": "qg4zT9x0n7N4",
    "outputId": "e4deeecb-eef7-4610-e28f-27828610dcc7"
   },
   "outputs": [
    {
     "name": "stdout",
     "output_type": "stream",
     "text": [
      "Epoch 1/8\n"
     ]
    },
    {
     "name": "stderr",
     "output_type": "stream",
     "text": [
      "/usr/local/lib/python3.7/dist-packages/tensorflow/python/util/dispatch.py:1082: UserWarning: \"`binary_crossentropy` received `from_logits=True`, but the `output` argument was produced by a sigmoid or softmax activation and thus does not represent logits. Was this intended?\"\n",
      "  return dispatch_target(*args, **kwargs)\n"
     ]
    },
    {
     "name": "stdout",
     "output_type": "stream",
     "text": [
      "6/6 [==============================] - 7s 70ms/step - loss: 0.6510 - accuracy: 0.6286\n",
      "Epoch 2/8\n",
      "6/6 [==============================] - 0s 66ms/step - loss: 0.6512 - accuracy: 0.6686\n",
      "Epoch 3/8\n",
      "6/6 [==============================] - 0s 67ms/step - loss: 0.6386 - accuracy: 0.6686\n",
      "Epoch 4/8\n",
      "6/6 [==============================] - 0s 66ms/step - loss: 0.6397 - accuracy: 0.6686\n",
      "Epoch 5/8\n",
      "6/6 [==============================] - 0s 67ms/step - loss: 0.6442 - accuracy: 0.6686\n",
      "Epoch 6/8\n",
      "6/6 [==============================] - 0s 67ms/step - loss: 0.6408 - accuracy: 0.6686\n",
      "Epoch 7/8\n",
      "6/6 [==============================] - 0s 66ms/step - loss: 0.6362 - accuracy: 0.6686\n",
      "Epoch 8/8\n",
      "6/6 [==============================] - 0s 66ms/step - loss: 0.6359 - accuracy: 0.6686\n"
     ]
    },
    {
     "data": {
      "text/plain": [
       "<keras.callbacks.History at 0x7f887a39f550>"
      ]
     },
     "execution_count": 28,
     "metadata": {},
     "output_type": "execute_result"
    }
   ],
   "source": [
    "classifier = Sequential()\n",
    "\n",
    "classifier.add(LSTM(units = max_length, return_sequences = True, input_shape = (bert_dev_input_ids.shape[1], 1)))\n",
    "classifier.add(Dropout(0.3))\n",
    "\n",
    "classifier.add(LSTM(units = 218, return_sequences = True))\n",
    "classifier.add(Dropout(0.3))\n",
    "\n",
    "classifier.add(LSTM(units = 512, return_sequences = False))\n",
    "classifier.add(Dropout(0.3))\n",
    "\n",
    "\n",
    "classifier.add(Dense(1, activation='sigmoid'))\n",
    "\n",
    "classifier.compile(optimizer=tf.keras.optimizers.Adam(learning_rate=0.00005),\n",
    "                                 loss=tf.keras.losses.BinaryCrossentropy(from_logits=True), \n",
    "                                 metrics='accuracy')\n",
    "\n",
    "classifier.fit(bert_train_input_ids, bert_train_labels, epochs = 8, batch_size = 32)"
   ]
  },
  {
   "cell_type": "markdown",
   "metadata": {
    "id": "vpG2VwHJrP8l"
   },
   "source": [
    "Creating binary targets based on probability above and below .50."
   ]
  },
  {
   "cell_type": "code",
   "execution_count": 29,
   "metadata": {
    "id": "J4RTR53kq4wN"
   },
   "outputs": [],
   "source": [
    "predictions_lstm_test = classifier.predict(bert_test_input_ids)\n",
    "prediction_classes_lstm = [\n",
    "    1 if prob > 0.5 else 0 for prob in np.ravel(predictions_lstm_test)\n",
    "]"
   ]
  },
  {
   "cell_type": "markdown",
   "metadata": {
    "id": "GHkJiFzdqoeE"
   },
   "source": [
    "Evaluating predicted values"
   ]
  },
  {
   "cell_type": "code",
   "execution_count": 30,
   "metadata": {
    "colab": {
     "base_uri": "https://localhost:8080/"
    },
    "id": "8wQV1DuDqmnk",
    "outputId": "03f9f42c-1ba2-4d17-adbc-d2fd94cfe5ce"
   },
   "outputs": [
    {
     "name": "stdout",
     "output_type": "stream",
     "text": [
      "Accuracy: 0.65\n",
      "Precision: 0.00\n",
      "Recall: 0.00\n",
      "AUC: 0.50\n"
     ]
    },
    {
     "name": "stderr",
     "output_type": "stream",
     "text": [
      "/usr/local/lib/python3.7/dist-packages/sklearn/metrics/_classification.py:1318: UndefinedMetricWarning: Precision is ill-defined and being set to 0.0 due to no predicted samples. Use `zero_division` parameter to control this behavior.\n",
      "  _warn_prf(average, modifier, msg_start, len(result))\n"
     ]
    }
   ],
   "source": [
    "print(f'Accuracy: {accuracy_score(bert_test_labels, prediction_classes_lstm):.2f}')\n",
    "print(f'Precision: {precision_score(bert_test_labels, prediction_classes_lstm):.2f}')\n",
    "print(f'Recall: {recall_score(bert_test_labels, prediction_classes_lstm):.2f}')\n",
    "print(f'AUC: {roc_auc_score(bert_test_labels, prediction_classes_lstm):.2f}')"
   ]
  },
  {
   "cell_type": "code",
   "execution_count": 31,
   "metadata": {
    "colab": {
     "base_uri": "https://localhost:8080/",
     "height": 421
    },
    "id": "cMUfVRRfi2Cv",
    "outputId": "a1e87825-9a06-4a85-bd0f-06079da5bcf6"
   },
   "outputs": [
    {
     "data": {
      "text/html": [
       "\n",
       "  <div id=\"df-8e928e1a-426f-4d92-bbab-1c6ff41627a0\">\n",
       "    <div class=\"colab-df-container\">\n",
       "      <div>\n",
       "<style scoped>\n",
       "    .dataframe tbody tr th:only-of-type {\n",
       "        vertical-align: middle;\n",
       "    }\n",
       "\n",
       "    .dataframe tbody tr th {\n",
       "        vertical-align: top;\n",
       "    }\n",
       "\n",
       "    .dataframe thead th {\n",
       "        text-align: right;\n",
       "    }\n",
       "</style>\n",
       "<table border=\"1\" class=\"dataframe\">\n",
       "  <thead>\n",
       "    <tr style=\"text-align: right;\">\n",
       "      <th></th>\n",
       "      <th>pred_prob</th>\n",
       "      <th>predicted</th>\n",
       "      <th>actual</th>\n",
       "      <th>lyrics</th>\n",
       "    </tr>\n",
       "  </thead>\n",
       "  <tbody>\n",
       "    <tr>\n",
       "      <th>2</th>\n",
       "      <td>0.327683</td>\n",
       "      <td>0</td>\n",
       "      <td>1</td>\n",
       "      <td>mama was queen of the mambo papa was king of t...</td>\n",
       "    </tr>\n",
       "    <tr>\n",
       "      <th>3</th>\n",
       "      <td>0.327675</td>\n",
       "      <td>0</td>\n",
       "      <td>1</td>\n",
       "      <td>picking up the story from where i left off it'...</td>\n",
       "    </tr>\n",
       "    <tr>\n",
       "      <th>4</th>\n",
       "      <td>0.329459</td>\n",
       "      <td>0</td>\n",
       "      <td>1</td>\n",
       "      <td>a question was raised to me the other day \"why...</td>\n",
       "    </tr>\n",
       "    <tr>\n",
       "      <th>8</th>\n",
       "      <td>0.329136</td>\n",
       "      <td>0</td>\n",
       "      <td>1</td>\n",
       "      <td>we wants it we needs it we must have the preci...</td>\n",
       "    </tr>\n",
       "    <tr>\n",
       "      <th>11</th>\n",
       "      <td>0.32875</td>\n",
       "      <td>0</td>\n",
       "      <td>1</td>\n",
       "      <td>y'know what i'm sayin'? these ruff ryder nigga...</td>\n",
       "    </tr>\n",
       "    <tr>\n",
       "      <th>16</th>\n",
       "      <td>0.330071</td>\n",
       "      <td>0</td>\n",
       "      <td>1</td>\n",
       "      <td>wise up sucker wise up wise up she loves me no...</td>\n",
       "    </tr>\n",
       "    <tr>\n",
       "      <th>17</th>\n",
       "      <td>0.329087</td>\n",
       "      <td>0</td>\n",
       "      <td>1</td>\n",
       "      <td>omni american born of beats and blood the conc...</td>\n",
       "    </tr>\n",
       "    <tr>\n",
       "      <th>18</th>\n",
       "      <td>0.329168</td>\n",
       "      <td>0</td>\n",
       "      <td>1</td>\n",
       "      <td>you claimed you loved me no you didn't you sai...</td>\n",
       "    </tr>\n",
       "    <tr>\n",
       "      <th>22</th>\n",
       "      <td>0.328508</td>\n",
       "      <td>0</td>\n",
       "      <td>1</td>\n",
       "      <td>butterflies da de-de-da da de-de-da da de-de-d...</td>\n",
       "    </tr>\n",
       "    <tr>\n",
       "      <th>26</th>\n",
       "      <td>0.330227</td>\n",
       "      <td>0</td>\n",
       "      <td>1</td>\n",
       "      <td>septimum nunc veni sigillum et vide septimum n...</td>\n",
       "    </tr>\n",
       "    <tr>\n",
       "      <th>30</th>\n",
       "      <td>0.330455</td>\n",
       "      <td>0</td>\n",
       "      <td>1</td>\n",
       "      <td>sung i will not rhyme on tracks niggas on a ch...</td>\n",
       "    </tr>\n",
       "    <tr>\n",
       "      <th>32</th>\n",
       "      <td>0.329202</td>\n",
       "      <td>0</td>\n",
       "      <td>1</td>\n",
       "      <td>ayo i don't even know you and i hate you see a...</td>\n",
       "    </tr>\n",
       "  </tbody>\n",
       "</table>\n",
       "</div>\n",
       "      <button class=\"colab-df-convert\" onclick=\"convertToInteractive('df-8e928e1a-426f-4d92-bbab-1c6ff41627a0')\"\n",
       "              title=\"Convert this dataframe to an interactive table.\"\n",
       "              style=\"display:none;\">\n",
       "        \n",
       "  <svg xmlns=\"http://www.w3.org/2000/svg\" height=\"24px\"viewBox=\"0 0 24 24\"\n",
       "       width=\"24px\">\n",
       "    <path d=\"M0 0h24v24H0V0z\" fill=\"none\"/>\n",
       "    <path d=\"M18.56 5.44l.94 2.06.94-2.06 2.06-.94-2.06-.94-.94-2.06-.94 2.06-2.06.94zm-11 1L8.5 8.5l.94-2.06 2.06-.94-2.06-.94L8.5 2.5l-.94 2.06-2.06.94zm10 10l.94 2.06.94-2.06 2.06-.94-2.06-.94-.94-2.06-.94 2.06-2.06.94z\"/><path d=\"M17.41 7.96l-1.37-1.37c-.4-.4-.92-.59-1.43-.59-.52 0-1.04.2-1.43.59L10.3 9.45l-7.72 7.72c-.78.78-.78 2.05 0 2.83L4 21.41c.39.39.9.59 1.41.59.51 0 1.02-.2 1.41-.59l7.78-7.78 2.81-2.81c.8-.78.8-2.07 0-2.86zM5.41 20L4 18.59l7.72-7.72 1.47 1.35L5.41 20z\"/>\n",
       "  </svg>\n",
       "      </button>\n",
       "      \n",
       "  <style>\n",
       "    .colab-df-container {\n",
       "      display:flex;\n",
       "      flex-wrap:wrap;\n",
       "      gap: 12px;\n",
       "    }\n",
       "\n",
       "    .colab-df-convert {\n",
       "      background-color: #E8F0FE;\n",
       "      border: none;\n",
       "      border-radius: 50%;\n",
       "      cursor: pointer;\n",
       "      display: none;\n",
       "      fill: #1967D2;\n",
       "      height: 32px;\n",
       "      padding: 0 0 0 0;\n",
       "      width: 32px;\n",
       "    }\n",
       "\n",
       "    .colab-df-convert:hover {\n",
       "      background-color: #E2EBFA;\n",
       "      box-shadow: 0px 1px 2px rgba(60, 64, 67, 0.3), 0px 1px 3px 1px rgba(60, 64, 67, 0.15);\n",
       "      fill: #174EA6;\n",
       "    }\n",
       "\n",
       "    [theme=dark] .colab-df-convert {\n",
       "      background-color: #3B4455;\n",
       "      fill: #D2E3FC;\n",
       "    }\n",
       "\n",
       "    [theme=dark] .colab-df-convert:hover {\n",
       "      background-color: #434B5C;\n",
       "      box-shadow: 0px 1px 3px 1px rgba(0, 0, 0, 0.15);\n",
       "      filter: drop-shadow(0px 1px 2px rgba(0, 0, 0, 0.3));\n",
       "      fill: #FFFFFF;\n",
       "    }\n",
       "  </style>\n",
       "\n",
       "      <script>\n",
       "        const buttonEl =\n",
       "          document.querySelector('#df-8e928e1a-426f-4d92-bbab-1c6ff41627a0 button.colab-df-convert');\n",
       "        buttonEl.style.display =\n",
       "          google.colab.kernel.accessAllowed ? 'block' : 'none';\n",
       "\n",
       "        async function convertToInteractive(key) {\n",
       "          const element = document.querySelector('#df-8e928e1a-426f-4d92-bbab-1c6ff41627a0');\n",
       "          const dataTable =\n",
       "            await google.colab.kernel.invokeFunction('convertToInteractive',\n",
       "                                                     [key], {});\n",
       "          if (!dataTable) return;\n",
       "\n",
       "          const docLinkHtml = 'Like what you see? Visit the ' +\n",
       "            '<a target=\"_blank\" href=https://colab.research.google.com/notebooks/data_table.ipynb>data table notebook</a>'\n",
       "            + ' to learn more about interactive tables.';\n",
       "          element.innerHTML = '';\n",
       "          dataTable['output_type'] = 'display_data';\n",
       "          await google.colab.output.renderOutput(dataTable, element);\n",
       "          const docLink = document.createElement('div');\n",
       "          docLink.innerHTML = docLinkHtml;\n",
       "          element.appendChild(docLink);\n",
       "        }\n",
       "      </script>\n",
       "    </div>\n",
       "  </div>\n",
       "  "
      ],
      "text/plain": [
       "   pred_prob predicted actual  \\\n",
       "2   0.327683         0      1   \n",
       "3   0.327675         0      1   \n",
       "4   0.329459         0      1   \n",
       "8   0.329136         0      1   \n",
       "11   0.32875         0      1   \n",
       "16  0.330071         0      1   \n",
       "17  0.329087         0      1   \n",
       "18  0.329168         0      1   \n",
       "22  0.328508         0      1   \n",
       "26  0.330227         0      1   \n",
       "30  0.330455         0      1   \n",
       "32  0.329202         0      1   \n",
       "\n",
       "                                               lyrics  \n",
       "2   mama was queen of the mambo papa was king of t...  \n",
       "3   picking up the story from where i left off it'...  \n",
       "4   a question was raised to me the other day \"why...  \n",
       "8   we wants it we needs it we must have the preci...  \n",
       "11  y'know what i'm sayin'? these ruff ryder nigga...  \n",
       "16  wise up sucker wise up wise up she loves me no...  \n",
       "17  omni american born of beats and blood the conc...  \n",
       "18  you claimed you loved me no you didn't you sai...  \n",
       "22  butterflies da de-de-da da de-de-da da de-de-d...  \n",
       "26  septimum nunc veni sigillum et vide septimum n...  \n",
       "30  sung i will not rhyme on tracks niggas on a ch...  \n",
       "32  ayo i don't even know you and i hate you see a...  "
      ]
     },
     "execution_count": 31,
     "metadata": {},
     "output_type": "execute_result"
    }
   ],
   "source": [
    "df_from_arr = pd.DataFrame([np.ravel(predictions_lstm_test),prediction_classes_lstm, bert_test_labels,bert_test_lyrics]).T\n",
    "df_from_arr.columns = ['pred_prob','predicted','actual','lyrics']\n",
    "df_from_arr[df_from_arr['predicted']!=df_from_arr['actual']]"
   ]
  },
  {
   "cell_type": "markdown",
   "metadata": {
    "id": "JRAVMjxCu4q1"
   },
   "source": [
    "Setting up Bert pooled model"
   ]
  },
  {
   "cell_type": "code",
   "execution_count": 32,
   "metadata": {
    "id": "gFgXJPWUuR00"
   },
   "outputs": [],
   "source": [
    "def create_bert_pooled_model(\n",
    "                          dropout=0.4,\n",
    "                                learning_rate=0.00005):\n",
    "\n",
    "\n",
    "    input_ids = tf.keras.layers.Input(shape=(max_length,), dtype=tf.int64, name='input_ids_layer')\n",
    "\n",
    "\n",
    "    bert_inputs = {'input_ids': input_ids}      \n",
    "\n",
    "    bert_out = bert_model(bert_inputs)\n",
    "\n",
    "    \n",
    "    pooled_token = bert_out[1]\n",
    "\n",
    "    hidden = tf.keras.layers.Dense(512, activation='relu', name='hidden_layer')(pooled_token)\n",
    "\n",
    "    hidden = tf.keras.layers.Dropout(dropout)(hidden) \n",
    "\n",
    "    classification = tf.keras.layers.Dense(1, activation='sigmoid',name='classification_layer')(hidden)\n",
    "    \n",
    "    classification_model = tf.keras.Model(inputs=[input_ids], outputs=[classification])\n",
    "    \n",
    "    classification_model.compile(optimizer=tf.keras.optimizers.Adam(learning_rate=learning_rate),\n",
    "                                 loss=tf.keras.losses.BinaryCrossentropy(from_logits=False), \n",
    "                                 metrics='accuracy')\n",
    "\n",
    "    \n",
    "    return classification_model"
   ]
  },
  {
   "cell_type": "code",
   "execution_count": 33,
   "metadata": {
    "colab": {
     "base_uri": "https://localhost:8080/"
    },
    "id": "xM4jkUxYy0Ce",
    "outputId": "ceca1725-cbfa-437b-efdc-3c2bf11e504c"
   },
   "outputs": [
    {
     "name": "stdout",
     "output_type": "stream",
     "text": [
      "Epoch 1/8\n",
      "6/6 [==============================] - 21s 998ms/step - loss: 0.6845 - accuracy: 0.6514 - val_loss: 0.6141 - val_accuracy: 0.7027\n",
      "Epoch 2/8\n",
      "6/6 [==============================] - 3s 450ms/step - loss: 0.6404 - accuracy: 0.6400 - val_loss: 0.5552 - val_accuracy: 0.7297\n",
      "Epoch 3/8\n",
      "6/6 [==============================] - 3s 450ms/step - loss: 0.5566 - accuracy: 0.7143 - val_loss: 0.4559 - val_accuracy: 0.7297\n",
      "Epoch 4/8\n",
      "6/6 [==============================] - 3s 450ms/step - loss: 0.4325 - accuracy: 0.8114 - val_loss: 0.4420 - val_accuracy: 0.7568\n",
      "Epoch 5/8\n",
      "6/6 [==============================] - 3s 450ms/step - loss: 0.3462 - accuracy: 0.8343 - val_loss: 0.4206 - val_accuracy: 0.7568\n",
      "Epoch 6/8\n",
      "6/6 [==============================] - 3s 450ms/step - loss: 0.1658 - accuracy: 0.9600 - val_loss: 0.5194 - val_accuracy: 0.7838\n",
      "Epoch 7/8\n",
      "6/6 [==============================] - 3s 450ms/step - loss: 0.0505 - accuracy: 0.9886 - val_loss: 0.4024 - val_accuracy: 0.8919\n",
      "Epoch 8/8\n",
      "6/6 [==============================] - 3s 450ms/step - loss: 0.2248 - accuracy: 0.9371 - val_loss: 1.5990 - val_accuracy: 0.7027\n"
     ]
    }
   ],
   "source": [
    "bert_classification_model = create_bert_pooled_model()\n",
    "\n",
    "bert_classification_model_lyrics = bert_classification_model.fit(\n",
    "    [bert_train_input_ids],\n",
    "    bert_train_labels,\n",
    "    validation_data=([bert_dev_input_ids], bert_dev_labels),\n",
    "    batch_size=32,\n",
    "    epochs=8\n",
    ")  \n"
   ]
  },
  {
   "cell_type": "code",
   "execution_count": 34,
   "metadata": {
    "id": "_kWAB4eMla3X"
   },
   "outputs": [],
   "source": [
    "predictions_pooled_bert_test = bert_classification_model.predict(bert_test_input_ids)"
   ]
  },
  {
   "cell_type": "code",
   "execution_count": 35,
   "metadata": {
    "id": "DeHo6EKgP-x4"
   },
   "outputs": [],
   "source": [
    "prediction_classes_pooled_bert_test = [\n",
    "    1 if prob > 0.5 else 0 for prob in np.ravel(predictions_pooled_bert_test)\n",
    "]"
   ]
  },
  {
   "cell_type": "code",
   "execution_count": 36,
   "metadata": {
    "colab": {
     "base_uri": "https://localhost:8080/"
    },
    "id": "AAiCHErYljSx",
    "outputId": "0c2b070e-0722-4e9e-9288-9538f5458fdb"
   },
   "outputs": [
    {
     "name": "stdout",
     "output_type": "stream",
     "text": [
      "Accuracy: 0.65\n",
      "Precision: 0.00\n",
      "Recall: 0.00\n",
      "AUC: 0.50\n"
     ]
    },
    {
     "name": "stderr",
     "output_type": "stream",
     "text": [
      "/usr/local/lib/python3.7/dist-packages/sklearn/metrics/_classification.py:1318: UndefinedMetricWarning: Precision is ill-defined and being set to 0.0 due to no predicted samples. Use `zero_division` parameter to control this behavior.\n",
      "  _warn_prf(average, modifier, msg_start, len(result))\n"
     ]
    }
   ],
   "source": [
    "from sklearn.metrics import accuracy_score, precision_score, recall_score, roc_auc_score\n",
    "\n",
    "print(f'Accuracy: {accuracy_score(bert_test_labels, prediction_classes_pooled_bert_test):.2f}')\n",
    "print(f'Precision: {precision_score(bert_test_labels, prediction_classes_pooled_bert_test):.2f}')\n",
    "print(f'Recall: {recall_score(bert_test_labels, prediction_classes_pooled_bert_test):.2f}')\n",
    "print(f'AUC: {roc_auc_score(bert_test_labels, prediction_classes_pooled_bert_test):.2f}')"
   ]
  },
  {
   "cell_type": "markdown",
   "metadata": {
    "id": "x-PT3RPufsMg"
   },
   "source": [
    "Examples where the model predicts incorrectly"
   ]
  },
  {
   "cell_type": "code",
   "execution_count": 37,
   "metadata": {
    "colab": {
     "base_uri": "https://localhost:8080/",
     "height": 421
    },
    "id": "YKBlbk4_RzIl",
    "outputId": "d0cebee0-7295-4cff-d3ab-67ecc95e54c7"
   },
   "outputs": [
    {
     "data": {
      "text/html": [
       "\n",
       "  <div id=\"df-b633a08e-3a7c-4a24-9fc9-e4d3ce687d56\">\n",
       "    <div class=\"colab-df-container\">\n",
       "      <div>\n",
       "<style scoped>\n",
       "    .dataframe tbody tr th:only-of-type {\n",
       "        vertical-align: middle;\n",
       "    }\n",
       "\n",
       "    .dataframe tbody tr th {\n",
       "        vertical-align: top;\n",
       "    }\n",
       "\n",
       "    .dataframe thead th {\n",
       "        text-align: right;\n",
       "    }\n",
       "</style>\n",
       "<table border=\"1\" class=\"dataframe\">\n",
       "  <thead>\n",
       "    <tr style=\"text-align: right;\">\n",
       "      <th></th>\n",
       "      <th>pred_prob</th>\n",
       "      <th>predicted</th>\n",
       "      <th>actual</th>\n",
       "      <th>lyrics</th>\n",
       "    </tr>\n",
       "  </thead>\n",
       "  <tbody>\n",
       "    <tr>\n",
       "      <th>2</th>\n",
       "      <td>0.003787</td>\n",
       "      <td>0</td>\n",
       "      <td>1</td>\n",
       "      <td>mama was queen of the mambo papa was king of t...</td>\n",
       "    </tr>\n",
       "    <tr>\n",
       "      <th>3</th>\n",
       "      <td>0.003049</td>\n",
       "      <td>0</td>\n",
       "      <td>1</td>\n",
       "      <td>picking up the story from where i left off it'...</td>\n",
       "    </tr>\n",
       "    <tr>\n",
       "      <th>4</th>\n",
       "      <td>0.003356</td>\n",
       "      <td>0</td>\n",
       "      <td>1</td>\n",
       "      <td>a question was raised to me the other day \"why...</td>\n",
       "    </tr>\n",
       "    <tr>\n",
       "      <th>8</th>\n",
       "      <td>0.00612</td>\n",
       "      <td>0</td>\n",
       "      <td>1</td>\n",
       "      <td>we wants it we needs it we must have the preci...</td>\n",
       "    </tr>\n",
       "    <tr>\n",
       "      <th>11</th>\n",
       "      <td>0.003058</td>\n",
       "      <td>0</td>\n",
       "      <td>1</td>\n",
       "      <td>y'know what i'm sayin'? these ruff ryder nigga...</td>\n",
       "    </tr>\n",
       "    <tr>\n",
       "      <th>16</th>\n",
       "      <td>0.002966</td>\n",
       "      <td>0</td>\n",
       "      <td>1</td>\n",
       "      <td>wise up sucker wise up wise up she loves me no...</td>\n",
       "    </tr>\n",
       "    <tr>\n",
       "      <th>17</th>\n",
       "      <td>0.004458</td>\n",
       "      <td>0</td>\n",
       "      <td>1</td>\n",
       "      <td>omni american born of beats and blood the conc...</td>\n",
       "    </tr>\n",
       "    <tr>\n",
       "      <th>18</th>\n",
       "      <td>0.003623</td>\n",
       "      <td>0</td>\n",
       "      <td>1</td>\n",
       "      <td>you claimed you loved me no you didn't you sai...</td>\n",
       "    </tr>\n",
       "    <tr>\n",
       "      <th>22</th>\n",
       "      <td>0.00717</td>\n",
       "      <td>0</td>\n",
       "      <td>1</td>\n",
       "      <td>butterflies da de-de-da da de-de-da da de-de-d...</td>\n",
       "    </tr>\n",
       "    <tr>\n",
       "      <th>26</th>\n",
       "      <td>0.007439</td>\n",
       "      <td>0</td>\n",
       "      <td>1</td>\n",
       "      <td>septimum nunc veni sigillum et vide septimum n...</td>\n",
       "    </tr>\n",
       "    <tr>\n",
       "      <th>30</th>\n",
       "      <td>0.00301</td>\n",
       "      <td>0</td>\n",
       "      <td>1</td>\n",
       "      <td>sung i will not rhyme on tracks niggas on a ch...</td>\n",
       "    </tr>\n",
       "    <tr>\n",
       "      <th>32</th>\n",
       "      <td>0.003272</td>\n",
       "      <td>0</td>\n",
       "      <td>1</td>\n",
       "      <td>ayo i don't even know you and i hate you see a...</td>\n",
       "    </tr>\n",
       "  </tbody>\n",
       "</table>\n",
       "</div>\n",
       "      <button class=\"colab-df-convert\" onclick=\"convertToInteractive('df-b633a08e-3a7c-4a24-9fc9-e4d3ce687d56')\"\n",
       "              title=\"Convert this dataframe to an interactive table.\"\n",
       "              style=\"display:none;\">\n",
       "        \n",
       "  <svg xmlns=\"http://www.w3.org/2000/svg\" height=\"24px\"viewBox=\"0 0 24 24\"\n",
       "       width=\"24px\">\n",
       "    <path d=\"M0 0h24v24H0V0z\" fill=\"none\"/>\n",
       "    <path d=\"M18.56 5.44l.94 2.06.94-2.06 2.06-.94-2.06-.94-.94-2.06-.94 2.06-2.06.94zm-11 1L8.5 8.5l.94-2.06 2.06-.94-2.06-.94L8.5 2.5l-.94 2.06-2.06.94zm10 10l.94 2.06.94-2.06 2.06-.94-2.06-.94-.94-2.06-.94 2.06-2.06.94z\"/><path d=\"M17.41 7.96l-1.37-1.37c-.4-.4-.92-.59-1.43-.59-.52 0-1.04.2-1.43.59L10.3 9.45l-7.72 7.72c-.78.78-.78 2.05 0 2.83L4 21.41c.39.39.9.59 1.41.59.51 0 1.02-.2 1.41-.59l7.78-7.78 2.81-2.81c.8-.78.8-2.07 0-2.86zM5.41 20L4 18.59l7.72-7.72 1.47 1.35L5.41 20z\"/>\n",
       "  </svg>\n",
       "      </button>\n",
       "      \n",
       "  <style>\n",
       "    .colab-df-container {\n",
       "      display:flex;\n",
       "      flex-wrap:wrap;\n",
       "      gap: 12px;\n",
       "    }\n",
       "\n",
       "    .colab-df-convert {\n",
       "      background-color: #E8F0FE;\n",
       "      border: none;\n",
       "      border-radius: 50%;\n",
       "      cursor: pointer;\n",
       "      display: none;\n",
       "      fill: #1967D2;\n",
       "      height: 32px;\n",
       "      padding: 0 0 0 0;\n",
       "      width: 32px;\n",
       "    }\n",
       "\n",
       "    .colab-df-convert:hover {\n",
       "      background-color: #E2EBFA;\n",
       "      box-shadow: 0px 1px 2px rgba(60, 64, 67, 0.3), 0px 1px 3px 1px rgba(60, 64, 67, 0.15);\n",
       "      fill: #174EA6;\n",
       "    }\n",
       "\n",
       "    [theme=dark] .colab-df-convert {\n",
       "      background-color: #3B4455;\n",
       "      fill: #D2E3FC;\n",
       "    }\n",
       "\n",
       "    [theme=dark] .colab-df-convert:hover {\n",
       "      background-color: #434B5C;\n",
       "      box-shadow: 0px 1px 3px 1px rgba(0, 0, 0, 0.15);\n",
       "      filter: drop-shadow(0px 1px 2px rgba(0, 0, 0, 0.3));\n",
       "      fill: #FFFFFF;\n",
       "    }\n",
       "  </style>\n",
       "\n",
       "      <script>\n",
       "        const buttonEl =\n",
       "          document.querySelector('#df-b633a08e-3a7c-4a24-9fc9-e4d3ce687d56 button.colab-df-convert');\n",
       "        buttonEl.style.display =\n",
       "          google.colab.kernel.accessAllowed ? 'block' : 'none';\n",
       "\n",
       "        async function convertToInteractive(key) {\n",
       "          const element = document.querySelector('#df-b633a08e-3a7c-4a24-9fc9-e4d3ce687d56');\n",
       "          const dataTable =\n",
       "            await google.colab.kernel.invokeFunction('convertToInteractive',\n",
       "                                                     [key], {});\n",
       "          if (!dataTable) return;\n",
       "\n",
       "          const docLinkHtml = 'Like what you see? Visit the ' +\n",
       "            '<a target=\"_blank\" href=https://colab.research.google.com/notebooks/data_table.ipynb>data table notebook</a>'\n",
       "            + ' to learn more about interactive tables.';\n",
       "          element.innerHTML = '';\n",
       "          dataTable['output_type'] = 'display_data';\n",
       "          await google.colab.output.renderOutput(dataTable, element);\n",
       "          const docLink = document.createElement('div');\n",
       "          docLink.innerHTML = docLinkHtml;\n",
       "          element.appendChild(docLink);\n",
       "        }\n",
       "      </script>\n",
       "    </div>\n",
       "  </div>\n",
       "  "
      ],
      "text/plain": [
       "   pred_prob predicted actual  \\\n",
       "2   0.003787         0      1   \n",
       "3   0.003049         0      1   \n",
       "4   0.003356         0      1   \n",
       "8    0.00612         0      1   \n",
       "11  0.003058         0      1   \n",
       "16  0.002966         0      1   \n",
       "17  0.004458         0      1   \n",
       "18  0.003623         0      1   \n",
       "22   0.00717         0      1   \n",
       "26  0.007439         0      1   \n",
       "30   0.00301         0      1   \n",
       "32  0.003272         0      1   \n",
       "\n",
       "                                               lyrics  \n",
       "2   mama was queen of the mambo papa was king of t...  \n",
       "3   picking up the story from where i left off it'...  \n",
       "4   a question was raised to me the other day \"why...  \n",
       "8   we wants it we needs it we must have the preci...  \n",
       "11  y'know what i'm sayin'? these ruff ryder nigga...  \n",
       "16  wise up sucker wise up wise up she loves me no...  \n",
       "17  omni american born of beats and blood the conc...  \n",
       "18  you claimed you loved me no you didn't you sai...  \n",
       "22  butterflies da de-de-da da de-de-da da de-de-d...  \n",
       "26  septimum nunc veni sigillum et vide septimum n...  \n",
       "30  sung i will not rhyme on tracks niggas on a ch...  \n",
       "32  ayo i don't even know you and i hate you see a...  "
      ]
     },
     "execution_count": 37,
     "metadata": {},
     "output_type": "execute_result"
    }
   ],
   "source": [
    "df_from_arr = pd.DataFrame([np.ravel(predictions_pooled_bert_test),prediction_classes_pooled_bert_test, bert_test_labels,bert_test_lyrics]).T\n",
    "df_from_arr.columns = ['pred_prob','predicted','actual','lyrics']\n",
    "df_from_arr[df_from_arr['predicted']!=df_from_arr['actual']]"
   ]
  },
  {
   "cell_type": "markdown",
   "metadata": {
    "id": "OzVq85JeyqXc"
   },
   "source": [
    "Setting up Bert CNN Model"
   ]
  },
  {
   "cell_type": "code",
   "execution_count": 42,
   "metadata": {
    "id": "_s_Nmq4rgYxe"
   },
   "outputs": [],
   "source": [
    "def create_bert_cnn_model(\n",
    "                          dropout=0.4,\n",
    "                          num_filters = [100, 100, 50, 25],\n",
    "                          kernel_sizes = [3, 5, 10, 20],\n",
    "                          learning_rate=0.00005):\n",
    "\n",
    "\n",
    "    input_ids = tf.keras.layers.Input(shape=(max_length,), dtype=tf.int64, name='input_ids_layer')\n",
    "\n",
    "\n",
    "    bert_inputs = {'input_ids': input_ids}      \n",
    "\n",
    "    bert_out = bert_model(bert_inputs)\n",
    "\n",
    "    \n",
    "    pooled_token = bert_out[0]\n",
    "\n",
    "    conv_layers_for_all_kernel_sizes = []\n",
    "    for kernel_size, filters in zip(kernel_sizes, num_filters):\n",
    "        conv_layer = keras.layers.Conv1D(filters=filters, kernel_size=kernel_size, activation='relu')(pooled_token)\n",
    "        conv_layer = keras.layers.GlobalMaxPooling1D()(conv_layer)\n",
    "        conv_layers_for_all_kernel_sizes.append(conv_layer)\n",
    "    \n",
    "    conv_output = keras.layers.concatenate(conv_layers_for_all_kernel_sizes, axis=1)\n",
    "\n",
    "    hidden = tf.keras.layers.Dense(218, activation='relu', name='hidden_layer')(conv_output)\n",
    "\n",
    "    hidden = tf.keras.layers.Dropout(dropout)(hidden) \n",
    "\n",
    "\n",
    "\n",
    "\n",
    "    classification = tf.keras.layers.Dense(1, activation='sigmoid',name='classification_layer')(hidden)\n",
    "    \n",
    "    classification_model = tf.keras.Model(inputs=[input_ids], outputs=[classification])\n",
    "    \n",
    "    classification_model.compile(optimizer=tf.keras.optimizers.Adam(learning_rate=learning_rate),\n",
    "                                 loss=tf.keras.losses.BinaryCrossentropy(from_logits=False), \n",
    "                                 metrics='accuracy')\n",
    "\n",
    "    \n",
    "    return classification_model"
   ]
  },
  {
   "cell_type": "code",
   "execution_count": 43,
   "metadata": {
    "colab": {
     "base_uri": "https://localhost:8080/"
    },
    "id": "sV-TlFvbNz-I",
    "outputId": "043db943-a200-4c8e-c083-8a0bfd83af7c"
   },
   "outputs": [
    {
     "name": "stdout",
     "output_type": "stream",
     "text": [
      "Epoch 1/8\n"
     ]
    },
    {
     "name": "stderr",
     "output_type": "stream",
     "text": [
      "WARNING:tensorflow:Gradients do not exist for variables ['tf_bert_model/bert/pooler/dense/kernel:0', 'tf_bert_model/bert/pooler/dense/bias:0'] when minimizing the loss. If you're using `model.compile()`, did you forget to provide a `loss`argument?\n",
      "WARNING:tensorflow:Gradients do not exist for variables ['tf_bert_model/bert/pooler/dense/kernel:0', 'tf_bert_model/bert/pooler/dense/bias:0'] when minimizing the loss. If you're using `model.compile()`, did you forget to provide a `loss`argument?\n"
     ]
    },
    {
     "name": "stdout",
     "output_type": "stream",
     "text": [
      "6/6 [==============================] - 21s 1s/step - loss: 0.3864 - accuracy: 0.8229 - val_loss: 1.0841 - val_accuracy: 0.7838\n",
      "Epoch 2/8\n",
      "6/6 [==============================] - 3s 459ms/step - loss: 0.0862 - accuracy: 0.9657 - val_loss: 0.9961 - val_accuracy: 0.7297\n",
      "Epoch 3/8\n",
      "6/6 [==============================] - 3s 459ms/step - loss: 0.0930 - accuracy: 0.9714 - val_loss: 1.6130 - val_accuracy: 0.6757\n",
      "Epoch 4/8\n",
      "6/6 [==============================] - 3s 461ms/step - loss: 0.0627 - accuracy: 0.9657 - val_loss: 1.0065 - val_accuracy: 0.7838\n",
      "Epoch 5/8\n",
      "6/6 [==============================] - 3s 459ms/step - loss: 0.0221 - accuracy: 0.9886 - val_loss: 1.0120 - val_accuracy: 0.7838\n",
      "Epoch 6/8\n",
      "6/6 [==============================] - 3s 458ms/step - loss: 0.0017 - accuracy: 1.0000 - val_loss: 1.1196 - val_accuracy: 0.8108\n",
      "Epoch 7/8\n",
      "6/6 [==============================] - 3s 459ms/step - loss: 7.6404e-04 - accuracy: 1.0000 - val_loss: 1.2306 - val_accuracy: 0.7568\n",
      "Epoch 8/8\n",
      "6/6 [==============================] - 3s 457ms/step - loss: 0.0085 - accuracy: 0.9943 - val_loss: 1.3205 - val_accuracy: 0.7297\n"
     ]
    }
   ],
   "source": [
    "bert_classification_cnn_model = create_bert_cnn_model()\n",
    "\n",
    "bert_classification_model_cnn_lyrics = bert_classification_cnn_model.fit(\n",
    "    [bert_train_input_ids],\n",
    "    bert_train_labels,\n",
    "    validation_data=([bert_dev_input_ids], bert_dev_labels),\n",
    "    batch_size=32,\n",
    "    epochs=8\n",
    ")  "
   ]
  },
  {
   "cell_type": "code",
   "execution_count": 44,
   "metadata": {
    "id": "TRnHuMMiAmuo"
   },
   "outputs": [],
   "source": [
    "predictions_cnn_probs = bert_classification_cnn_model.predict(bert_test_input_ids)\n",
    "prediction_classes_cnn_prob = [\n",
    "    1 if prob > 0.5 else 0 for prob in np.ravel(predictions_cnn_probs)\n",
    "]"
   ]
  },
  {
   "cell_type": "code",
   "execution_count": 45,
   "metadata": {
    "colab": {
     "base_uri": "https://localhost:8080/"
    },
    "id": "UroeB1W7A76H",
    "outputId": "a81805d8-0986-4476-f9fe-8ebac0258e4b"
   },
   "outputs": [
    {
     "name": "stdout",
     "output_type": "stream",
     "text": [
      "Accuracy: 0.65\n",
      "Precision: 0.50\n",
      "Recall: 0.42\n",
      "AUC: 0.59\n"
     ]
    }
   ],
   "source": [
    "from sklearn.metrics import accuracy_score, precision_score, recall_score, roc_auc_score\n",
    "\n",
    "print(f'Accuracy: {accuracy_score(bert_test_labels, prediction_classes_cnn_prob):.2f}')\n",
    "print(f'Precision: {precision_score(bert_test_labels, prediction_classes_cnn_prob):.2f}')\n",
    "print(f'Recall: {recall_score(bert_test_labels, prediction_classes_cnn_prob):.2f}')\n",
    "print(f'AUC: {roc_auc_score(bert_test_labels, prediction_classes_cnn_prob):.2f}')"
   ]
  },
  {
   "cell_type": "code",
   "execution_count": 82,
   "metadata": {
    "colab": {
     "base_uri": "https://localhost:8080/",
     "height": 2639
    },
    "id": "2jM1yZcdhI1Z",
    "outputId": "15b31e91-ae1c-446f-ff1f-2c67156d035e"
   },
   "outputs": [
    {
     "data": {
      "text/html": [
       "\n",
       "  <div id=\"df-233427d1-6cb6-4335-a906-4ea482bfc113\">\n",
       "    <div class=\"colab-df-container\">\n",
       "      <div>\n",
       "<style scoped>\n",
       "    .dataframe tbody tr th:only-of-type {\n",
       "        vertical-align: middle;\n",
       "    }\n",
       "\n",
       "    .dataframe tbody tr th {\n",
       "        vertical-align: top;\n",
       "    }\n",
       "\n",
       "    .dataframe thead th {\n",
       "        text-align: right;\n",
       "    }\n",
       "</style>\n",
       "<table border=\"1\" class=\"dataframe\">\n",
       "  <thead>\n",
       "    <tr style=\"text-align: right;\">\n",
       "      <th></th>\n",
       "      <th>pred_prob</th>\n",
       "      <th>predicted</th>\n",
       "      <th>actual</th>\n",
       "      <th>lyrics</th>\n",
       "    </tr>\n",
       "  </thead>\n",
       "  <tbody>\n",
       "    <tr>\n",
       "      <th>2</th>\n",
       "      <td>0.054721</td>\n",
       "      <td>0</td>\n",
       "      <td>1</td>\n",
       "      <td>mama was queen of the mambo papa was king of t...</td>\n",
       "    </tr>\n",
       "    <tr>\n",
       "      <th>3</th>\n",
       "      <td>0.004035</td>\n",
       "      <td>0</td>\n",
       "      <td>1</td>\n",
       "      <td>picking up the story from where i left off it'...</td>\n",
       "    </tr>\n",
       "    <tr>\n",
       "      <th>4</th>\n",
       "      <td>0.001065</td>\n",
       "      <td>0</td>\n",
       "      <td>1</td>\n",
       "      <td>a question was raised to me the other day \"why...</td>\n",
       "    </tr>\n",
       "    <tr>\n",
       "      <th>8</th>\n",
       "      <td>0.024146</td>\n",
       "      <td>0</td>\n",
       "      <td>1</td>\n",
       "      <td>we wants it we needs it we must have the preci...</td>\n",
       "    </tr>\n",
       "    <tr>\n",
       "      <th>11</th>\n",
       "      <td>0.001251</td>\n",
       "      <td>0</td>\n",
       "      <td>1</td>\n",
       "      <td>y'know what i'm sayin'? these ruff ryder nigga...</td>\n",
       "    </tr>\n",
       "    <tr>\n",
       "      <th>16</th>\n",
       "      <td>0.005441</td>\n",
       "      <td>0</td>\n",
       "      <td>1</td>\n",
       "      <td>wise up sucker wise up wise up she loves me no...</td>\n",
       "    </tr>\n",
       "    <tr>\n",
       "      <th>17</th>\n",
       "      <td>0.032146</td>\n",
       "      <td>0</td>\n",
       "      <td>1</td>\n",
       "      <td>omni american born of beats and blood the conc...</td>\n",
       "    </tr>\n",
       "    <tr>\n",
       "      <th>18</th>\n",
       "      <td>0.008282</td>\n",
       "      <td>0</td>\n",
       "      <td>1</td>\n",
       "      <td>you claimed you loved me no you didn't you sai...</td>\n",
       "    </tr>\n",
       "    <tr>\n",
       "      <th>22</th>\n",
       "      <td>0.286024</td>\n",
       "      <td>0</td>\n",
       "      <td>1</td>\n",
       "      <td>butterflies da de-de-da da de-de-da da de-de-d...</td>\n",
       "    </tr>\n",
       "    <tr>\n",
       "      <th>26</th>\n",
       "      <td>0.015039</td>\n",
       "      <td>0</td>\n",
       "      <td>1</td>\n",
       "      <td>septimum nunc veni sigillum et vide septimum n...</td>\n",
       "    </tr>\n",
       "    <tr>\n",
       "      <th>30</th>\n",
       "      <td>0.017102</td>\n",
       "      <td>0</td>\n",
       "      <td>1</td>\n",
       "      <td>sung i will not rhyme on tracks niggas on a ch...</td>\n",
       "    </tr>\n",
       "    <tr>\n",
       "      <th>31</th>\n",
       "      <td>0.973006</td>\n",
       "      <td>1</td>\n",
       "      <td>0</td>\n",
       "      <td>white breaded bitches yo soy la ultima maxima ...</td>\n",
       "    </tr>\n",
       "    <tr>\n",
       "      <th>32</th>\n",
       "      <td>0.001136</td>\n",
       "      <td>0</td>\n",
       "      <td>1</td>\n",
       "      <td>ayo i don't even know you and i hate you see a...</td>\n",
       "    </tr>\n",
       "  </tbody>\n",
       "</table>\n",
       "</div>\n",
       "      <button class=\"colab-df-convert\" onclick=\"convertToInteractive('df-233427d1-6cb6-4335-a906-4ea482bfc113')\"\n",
       "              title=\"Convert this dataframe to an interactive table.\"\n",
       "              style=\"display:none;\">\n",
       "        \n",
       "  <svg xmlns=\"http://www.w3.org/2000/svg\" height=\"24px\"viewBox=\"0 0 24 24\"\n",
       "       width=\"24px\">\n",
       "    <path d=\"M0 0h24v24H0V0z\" fill=\"none\"/>\n",
       "    <path d=\"M18.56 5.44l.94 2.06.94-2.06 2.06-.94-2.06-.94-.94-2.06-.94 2.06-2.06.94zm-11 1L8.5 8.5l.94-2.06 2.06-.94-2.06-.94L8.5 2.5l-.94 2.06-2.06.94zm10 10l.94 2.06.94-2.06 2.06-.94-2.06-.94-.94-2.06-.94 2.06-2.06.94z\"/><path d=\"M17.41 7.96l-1.37-1.37c-.4-.4-.92-.59-1.43-.59-.52 0-1.04.2-1.43.59L10.3 9.45l-7.72 7.72c-.78.78-.78 2.05 0 2.83L4 21.41c.39.39.9.59 1.41.59.51 0 1.02-.2 1.41-.59l7.78-7.78 2.81-2.81c.8-.78.8-2.07 0-2.86zM5.41 20L4 18.59l7.72-7.72 1.47 1.35L5.41 20z\"/>\n",
       "  </svg>\n",
       "      </button>\n",
       "      \n",
       "  <style>\n",
       "    .colab-df-container {\n",
       "      display:flex;\n",
       "      flex-wrap:wrap;\n",
       "      gap: 12px;\n",
       "    }\n",
       "\n",
       "    .colab-df-convert {\n",
       "      background-color: #E8F0FE;\n",
       "      border: none;\n",
       "      border-radius: 50%;\n",
       "      cursor: pointer;\n",
       "      display: none;\n",
       "      fill: #1967D2;\n",
       "      height: 32px;\n",
       "      padding: 0 0 0 0;\n",
       "      width: 32px;\n",
       "    }\n",
       "\n",
       "    .colab-df-convert:hover {\n",
       "      background-color: #E2EBFA;\n",
       "      box-shadow: 0px 1px 2px rgba(60, 64, 67, 0.3), 0px 1px 3px 1px rgba(60, 64, 67, 0.15);\n",
       "      fill: #174EA6;\n",
       "    }\n",
       "\n",
       "    [theme=dark] .colab-df-convert {\n",
       "      background-color: #3B4455;\n",
       "      fill: #D2E3FC;\n",
       "    }\n",
       "\n",
       "    [theme=dark] .colab-df-convert:hover {\n",
       "      background-color: #434B5C;\n",
       "      box-shadow: 0px 1px 3px 1px rgba(0, 0, 0, 0.15);\n",
       "      filter: drop-shadow(0px 1px 2px rgba(0, 0, 0, 0.3));\n",
       "      fill: #FFFFFF;\n",
       "    }\n",
       "  </style>\n",
       "\n",
       "      <script>\n",
       "        const buttonEl =\n",
       "          document.querySelector('#df-233427d1-6cb6-4335-a906-4ea482bfc113 button.colab-df-convert');\n",
       "        buttonEl.style.display =\n",
       "          google.colab.kernel.accessAllowed ? 'block' : 'none';\n",
       "\n",
       "        async function convertToInteractive(key) {\n",
       "          const element = document.querySelector('#df-233427d1-6cb6-4335-a906-4ea482bfc113');\n",
       "          const dataTable =\n",
       "            await google.colab.kernel.invokeFunction('convertToInteractive',\n",
       "                                                     [key], {});\n",
       "          if (!dataTable) return;\n",
       "\n",
       "          const docLinkHtml = 'Like what you see? Visit the ' +\n",
       "            '<a target=\"_blank\" href=https://colab.research.google.com/notebooks/data_table.ipynb>data table notebook</a>'\n",
       "            + ' to learn more about interactive tables.';\n",
       "          element.innerHTML = '';\n",
       "          dataTable['output_type'] = 'display_data';\n",
       "          await google.colab.output.renderOutput(dataTable, element);\n",
       "          const docLink = document.createElement('div');\n",
       "          docLink.innerHTML = docLinkHtml;\n",
       "          element.appendChild(docLink);\n",
       "        }\n",
       "      </script>\n",
       "    </div>\n",
       "  </div>\n",
       "  "
      ],
      "text/plain": [
       "   pred_prob predicted actual  \\\n",
       "2   0.054721         0      1   \n",
       "3   0.004035         0      1   \n",
       "4   0.001065         0      1   \n",
       "8   0.024146         0      1   \n",
       "11  0.001251         0      1   \n",
       "16  0.005441         0      1   \n",
       "17  0.032146         0      1   \n",
       "18  0.008282         0      1   \n",
       "22  0.286024         0      1   \n",
       "26  0.015039         0      1   \n",
       "30  0.017102         0      1   \n",
       "31  0.973006         1      0   \n",
       "32  0.001136         0      1   \n",
       "\n",
       "                                               lyrics  \n",
       "2   mama was queen of the mambo papa was king of t...  \n",
       "3   picking up the story from where i left off it'...  \n",
       "4   a question was raised to me the other day \"why...  \n",
       "8   we wants it we needs it we must have the preci...  \n",
       "11  y'know what i'm sayin'? these ruff ryder nigga...  \n",
       "16  wise up sucker wise up wise up she loves me no...  \n",
       "17  omni american born of beats and blood the conc...  \n",
       "18  you claimed you loved me no you didn't you sai...  \n",
       "22  butterflies da de-de-da da de-de-da da de-de-d...  \n",
       "26  septimum nunc veni sigillum et vide septimum n...  \n",
       "30  sung i will not rhyme on tracks niggas on a ch...  \n",
       "31  white breaded bitches yo soy la ultima maxima ...  \n",
       "32  ayo i don't even know you and i hate you see a...  "
      ]
     },
     "execution_count": 82,
     "metadata": {},
     "output_type": "execute_result"
    }
   ],
   "source": [
    "df_from_arr = pd.DataFrame([np.ravel(predictions_cnn_probs),prediction_classes_cnn_prob, bert_test_labels,bert_test_lyrics]).T\n",
    "df_from_arr.columns = ['pred_prob','predicted','actual','lyrics']\n",
    "df_from_arr[df_from_arr['predicted']!=df_from_arr['actual']]"
   ]
  },
  {
   "cell_type": "markdown",
   "metadata": {
    "id": "LyE5fj4aXu7d"
   },
   "source": [
    "Evaluating BERT CNN Model with Olivia Rodrigo's lyrics \"Good 4 You\". Expecting a Negative sentiment."
   ]
  },
  {
   "cell_type": "code",
   "execution_count": 182,
   "metadata": {
    "id": "IQVtyg5VI6po"
   },
   "outputs": [],
   "source": [
    "def ad_hoc_lyric_predict(lyrics,target):\n",
    "\n",
    "  arr = np.char.lower(lyrics)\n",
    "  arr = np.char.replace(arr,'!','')\n",
    "  arr = np.char.replace(arr,',','')\n",
    "  arr = np.char.replace(arr,'/','')\n",
    "  arr = np.char.replace(arr,'(','')\n",
    "  arr = np.char.replace(arr,')','')\n",
    "  arr = str(arr)\n",
    "  arr = (bert_tokenizer(arr, \n",
    "              truncation=True,\n",
    "              padding=True,\n",
    "              return_tensors='tf'))\n",
    "  \n",
    "  arr,target,lyrics = select_min_length_examples(arr,[target],[lyrics])\n",
    "\n",
    "  if arr.shape[1] < 512:\n",
    "    padding = tf.constant([[0, 0], [0,53]])\n",
    "    arr = tf.pad(arr, padding, mode ='CONSTANT')\n",
    "  else:\n",
    "    arr = arr\n",
    "\n",
    "  probs = bert_classification_cnn_model.predict(arr)\n",
    "  preds = [\n",
    "    1 if prob > 0.5 else 0 for prob in np.ravel(probs)\n",
    "  ]\n",
    "\n",
    "  df_from_arr = pd.DataFrame([np.ravel(probs),preds,target,lyrics]).T\n",
    "  df_from_arr.columns = ['pred_prob','predicted','actual','lyrics']\n",
    "\n",
    "  return df_from_arr\n",
    "  "
   ]
  },
  {
   "cell_type": "code",
   "execution_count": 54,
   "metadata": {
    "id": "4yynmYsqKuE7"
   },
   "outputs": [],
   "source": [
    "rodrigo_lyrics = np.array(\"\"\"Well good for you, I guess you moved on really easily \n",
    "You found a new girl and it only took a couple weeks\n",
    "Remember when you said that you wanted to give me the world\n",
    "And good for you, I guess that you've been working on yourself\n",
    "I guess that therapist I found for you, she really helped\n",
    "Now you can be a better man for your brand new girl\n",
    "Well good for you\n",
    "You look happy and healthy, not me\n",
    "If you ever cared to ask\n",
    "Good for you\n",
    "You're doing great out there without me, baby\n",
    "God, I wish that I could do that\n",
    "I've lost my mind\n",
    "I've spent the night\n",
    "Crying on the floor of my bathroom\n",
    "But you're so unaffected, I really don't get it\n",
    "But I guess good for you\n",
    "Well good for you, I guess you're getting everything you want\n",
    "You bought a new car and your career's really taking off\n",
    "It's like we never even happened, baby\n",
    "What the fuck is up with that?\n",
    "And good for you, it's like you never even met me\n",
    "Remember when you swore to God I was the only\n",
    "Person who ever got you\n",
    "Well, screw that and screw you\n",
    "You will never have to hurt the way you know that I do\n",
    "Well good for you\n",
    "You look happy and healthy, not me\n",
    "If you ever cared to ask\n",
    "Good for you\n",
    "You're doing great out there without me, baby\n",
    "God, I wish that I could do that\n",
    "I've lost my mind\n",
    "I've spent the night\n",
    "Crying on the floor of my bathroom\n",
    "But you're so unaffected, I really don't get it\n",
    "But I guess good for you\n",
    "Maybe I'm too emotional\n",
    "But your apathy's like a wound in salt\n",
    "Maybe I'm too emotional\n",
    "Or maybe you never cared at all\n",
    "Maybe I'm too emotional\n",
    "Your apathy's like a wound in salt\n",
    "Maybe I'm too emotional\n",
    "Or maybe you never cared at all\n",
    "Well good for you\n",
    "You look happy and healthy, not me\n",
    "If you ever cared to ask\n",
    "Good for you\n",
    "You're doing great out there without me, baby\n",
    "Like a damn sociopath\n",
    "I've lost my mind\n",
    "I've spent the night\n",
    "Crying on the floor of my bathroom\n",
    "But you're so unaffected, I really don't get it\n",
    "But I guess good for you\n",
    "Well good for you, I guess you moved on really easily\n",
    "\"\"\")"
   ]
  },
  {
   "cell_type": "code",
   "execution_count": 180,
   "metadata": {
    "colab": {
     "base_uri": "https://localhost:8080/",
     "height": 80
    },
    "id": "UUS0Uw3BLWPz",
    "outputId": "73070a3b-18d6-4d3a-dba6-64495b8f1599"
   },
   "outputs": [
    {
     "data": {
      "text/html": [
       "\n",
       "  <div id=\"df-37a7ffed-7e45-45db-a78a-c55b0ecec57a\">\n",
       "    <div class=\"colab-df-container\">\n",
       "      <div>\n",
       "<style scoped>\n",
       "    .dataframe tbody tr th:only-of-type {\n",
       "        vertical-align: middle;\n",
       "    }\n",
       "\n",
       "    .dataframe tbody tr th {\n",
       "        vertical-align: top;\n",
       "    }\n",
       "\n",
       "    .dataframe thead th {\n",
       "        text-align: right;\n",
       "    }\n",
       "</style>\n",
       "<table border=\"1\" class=\"dataframe\">\n",
       "  <thead>\n",
       "    <tr style=\"text-align: right;\">\n",
       "      <th></th>\n",
       "      <th>pred_prob</th>\n",
       "      <th>predicted</th>\n",
       "      <th>actual</th>\n",
       "      <th>lyrics</th>\n",
       "    </tr>\n",
       "  </thead>\n",
       "  <tbody>\n",
       "    <tr>\n",
       "      <th>0</th>\n",
       "      <td>0.000776</td>\n",
       "      <td>0</td>\n",
       "      <td>0</td>\n",
       "      <td>Well good for you, I guess you moved on really...</td>\n",
       "    </tr>\n",
       "  </tbody>\n",
       "</table>\n",
       "</div>\n",
       "      <button class=\"colab-df-convert\" onclick=\"convertToInteractive('df-37a7ffed-7e45-45db-a78a-c55b0ecec57a')\"\n",
       "              title=\"Convert this dataframe to an interactive table.\"\n",
       "              style=\"display:none;\">\n",
       "        \n",
       "  <svg xmlns=\"http://www.w3.org/2000/svg\" height=\"24px\"viewBox=\"0 0 24 24\"\n",
       "       width=\"24px\">\n",
       "    <path d=\"M0 0h24v24H0V0z\" fill=\"none\"/>\n",
       "    <path d=\"M18.56 5.44l.94 2.06.94-2.06 2.06-.94-2.06-.94-.94-2.06-.94 2.06-2.06.94zm-11 1L8.5 8.5l.94-2.06 2.06-.94-2.06-.94L8.5 2.5l-.94 2.06-2.06.94zm10 10l.94 2.06.94-2.06 2.06-.94-2.06-.94-.94-2.06-.94 2.06-2.06.94z\"/><path d=\"M17.41 7.96l-1.37-1.37c-.4-.4-.92-.59-1.43-.59-.52 0-1.04.2-1.43.59L10.3 9.45l-7.72 7.72c-.78.78-.78 2.05 0 2.83L4 21.41c.39.39.9.59 1.41.59.51 0 1.02-.2 1.41-.59l7.78-7.78 2.81-2.81c.8-.78.8-2.07 0-2.86zM5.41 20L4 18.59l7.72-7.72 1.47 1.35L5.41 20z\"/>\n",
       "  </svg>\n",
       "      </button>\n",
       "      \n",
       "  <style>\n",
       "    .colab-df-container {\n",
       "      display:flex;\n",
       "      flex-wrap:wrap;\n",
       "      gap: 12px;\n",
       "    }\n",
       "\n",
       "    .colab-df-convert {\n",
       "      background-color: #E8F0FE;\n",
       "      border: none;\n",
       "      border-radius: 50%;\n",
       "      cursor: pointer;\n",
       "      display: none;\n",
       "      fill: #1967D2;\n",
       "      height: 32px;\n",
       "      padding: 0 0 0 0;\n",
       "      width: 32px;\n",
       "    }\n",
       "\n",
       "    .colab-df-convert:hover {\n",
       "      background-color: #E2EBFA;\n",
       "      box-shadow: 0px 1px 2px rgba(60, 64, 67, 0.3), 0px 1px 3px 1px rgba(60, 64, 67, 0.15);\n",
       "      fill: #174EA6;\n",
       "    }\n",
       "\n",
       "    [theme=dark] .colab-df-convert {\n",
       "      background-color: #3B4455;\n",
       "      fill: #D2E3FC;\n",
       "    }\n",
       "\n",
       "    [theme=dark] .colab-df-convert:hover {\n",
       "      background-color: #434B5C;\n",
       "      box-shadow: 0px 1px 3px 1px rgba(0, 0, 0, 0.15);\n",
       "      filter: drop-shadow(0px 1px 2px rgba(0, 0, 0, 0.3));\n",
       "      fill: #FFFFFF;\n",
       "    }\n",
       "  </style>\n",
       "\n",
       "      <script>\n",
       "        const buttonEl =\n",
       "          document.querySelector('#df-37a7ffed-7e45-45db-a78a-c55b0ecec57a button.colab-df-convert');\n",
       "        buttonEl.style.display =\n",
       "          google.colab.kernel.accessAllowed ? 'block' : 'none';\n",
       "\n",
       "        async function convertToInteractive(key) {\n",
       "          const element = document.querySelector('#df-37a7ffed-7e45-45db-a78a-c55b0ecec57a');\n",
       "          const dataTable =\n",
       "            await google.colab.kernel.invokeFunction('convertToInteractive',\n",
       "                                                     [key], {});\n",
       "          if (!dataTable) return;\n",
       "\n",
       "          const docLinkHtml = 'Like what you see? Visit the ' +\n",
       "            '<a target=\"_blank\" href=https://colab.research.google.com/notebooks/data_table.ipynb>data table notebook</a>'\n",
       "            + ' to learn more about interactive tables.';\n",
       "          element.innerHTML = '';\n",
       "          dataTable['output_type'] = 'display_data';\n",
       "          await google.colab.output.renderOutput(dataTable, element);\n",
       "          const docLink = document.createElement('div');\n",
       "          docLink.innerHTML = docLinkHtml;\n",
       "          element.appendChild(docLink);\n",
       "        }\n",
       "      </script>\n",
       "    </div>\n",
       "  </div>\n",
       "  "
      ],
      "text/plain": [
       "  pred_prob predicted actual  \\\n",
       "0  0.000776         0      0   \n",
       "\n",
       "                                              lyrics  \n",
       "0  Well good for you, I guess you moved on really...  "
      ]
     },
     "execution_count": 180,
     "metadata": {},
     "output_type": "execute_result"
    }
   ],
   "source": [
    "ad_hoc_lyric_predict(rodrigo_lyrics,0)"
   ]
  },
  {
   "cell_type": "markdown",
   "metadata": {
    "id": "T5TzmWF9Zzfn"
   },
   "source": [
    "Evaluating Kendrick Lamar's clean/censored version of \"Alright\". Expecting a positive sentiment."
   ]
  },
  {
   "cell_type": "code",
   "execution_count": 184,
   "metadata": {
    "id": "Gd7OU40HW8V9"
   },
   "outputs": [],
   "source": [
    "lamar_lyrics_clean_version = np.array(\"\"\"Alls my life I has to fight, hittas\n",
    "Alls my life I...\n",
    "Hard times like, \"Yeah!\"\n",
    "Bad trips like, \"Yeah!\"\n",
    "Nazareth, I'm on one\n",
    "Homie you on one\n",
    "But if God got us\n",
    "Then we gon' be alright\n",
    "We gon' be alright\n",
    "We gon' be alright\n",
    "We gon' be alright\n",
    "Do you hear me, do you feel me? We gon' be alright\n",
    "We gon' be alright\n",
    "Huh? We gon' be alright\n",
    "We gon' be alright\n",
    "Do you hear me, do you feel me? We gon' be alright\n",
    "Uh, and when I wake up\n",
    "I recognize you're lookin' at me for the pay cut\n",
    "But homicide be lookin' at you from the face down\n",
    "What Mac-11 even boom with the bass down\n",
    "Schemin', and let me tell you 'bout my life\n",
    "Painkillers only put me in the twilight\n",
    "Where pretty uh, uh is the highlight\n",
    "Now tell my momma I love her but this what I like, Lord knows\n",
    "20 of 'em in my Chevy, tell 'em all to come and get me\n",
    "Everything I sow, so my karma come\n",
    "And heaven no preliminary hearing, so my record\n",
    "Tell the world I know it's too late\n",
    "Boys and girls, I think I gone cray\n",
    "Drown inside my vices all day\n",
    "Won't you please believe when I say?\n",
    "Wouldn't you know\n",
    "We been hurt, been down before\n",
    "Hitta, when our pride was low\n",
    "Lookin' at the world like, \"Where do we go?\"\n",
    "Hitta, and we hate po-po\n",
    "Wanna kill us dead in the street fo' sho'\n",
    "Hitta, I'm at the preacher's door\n",
    "My knees gettin' weak, and my gun might blow\n",
    "But we gon' be alright\n",
    "We gon' be alright\n",
    "We gon' be alright\n",
    "We gon' be alright\n",
    "Do you hear me, do you feel me? We gon' be alright\n",
    "We gon' be alright\n",
    "Huh? We gon' be alright\n",
    "We gon' be alright\n",
    "Do you hear me, do you feel me? We gon' be alright\n",
    "What you want, you a house, you a car?\n",
    "A piano, a guitar?\n",
    "Anything, see my name is Lucy, I'm your dog\n",
    "Look, you can live at the mall\n",
    "I can see the evil, I can tell it, I know it's illegal\n",
    "I don't think about it, I deposit every little zero\n",
    "Thinkin' of my partner, put the candy, paint it on the Regal\n",
    "Diggin' in my pocket, ain't a profit big enough to feed you\n",
    "Everyday my logic, get another dollar just to keep you\n",
    "In the presence of your chico... ah!\n",
    "I don't talk about it, be about it, everyday I sequel\n",
    "If I got it then you know you got it, heaven, I can reach you\n",
    "Pet dog, pet dog, pet dog, my dog, that's all\n",
    "Pick back and chat, I trap the back for y'all\n",
    "I rap, I black on track so rest assured\n",
    "I right my wrongs; I write 'til I'm right with God\n",
    "Wouldn't you know\n",
    "We been hurt, been down before\n",
    "Hitta, when our pride was low\n",
    "Lookin' at the world like, \"Where do we go?\"\n",
    "Hitta, and we hate po-po\n",
    "Wanna kill us dead in the street fo' sho'\n",
    "Hitta, I'm at the preacher's door\n",
    "My knees gettin' weak, and my gun might blow\n",
    "But we gon' be alright\n",
    "We gon' be alright\n",
    "We gon' be alright\n",
    "We gon' be alright\n",
    "Do you hear me, do you feel me? We gon' be alright\n",
    "We gon' be alright\n",
    "Huh? We gon' be alright\n",
    "We gon' be alright\n",
    "Do you hear me, do you feel me? We gon' be alright\n",
    "Get back\n",
    "Look I started from the bottom, at the very bottom\n",
    "Mixin' Hen with similac my momma knew I had a problem\n",
    "I was jibbing for a bottom, putting quarter pieces in the black caprice and make it holla (Alright)\n",
    "No releasing me, I got the piece in me, I gotta\n",
    "Keep the decency and make them TNT my product\n",
    "I'm a C-O-M-P-T-O-innovator, energizer\n",
    "Inner-city bullet fly 'til that thing on auto pilot (Alright)\n",
    "I don't really care about the care abouts\n",
    "All I care about is wearing out your upper body\n",
    "When I catch ya, when I catch ya, walking out your parents house\n",
    "(Alright)\n",
    "Fourteen years old sound so raw making plays home boy\n",
    "Big K's and my big dogs\n",
    "Never, ever, went straight home, boy\n",
    "\"\"\")"
   ]
  },
  {
   "cell_type": "code",
   "execution_count": 186,
   "metadata": {
    "colab": {
     "base_uri": "https://localhost:8080/",
     "height": 80
    },
    "id": "bcZ3qJaXYfHz",
    "outputId": "0d4bd2bf-8252-418e-8063-18b4537a80cc"
   },
   "outputs": [
    {
     "data": {
      "text/html": [
       "\n",
       "  <div id=\"df-a85488aa-9d07-4ade-9e72-fbf85cbfd52e\">\n",
       "    <div class=\"colab-df-container\">\n",
       "      <div>\n",
       "<style scoped>\n",
       "    .dataframe tbody tr th:only-of-type {\n",
       "        vertical-align: middle;\n",
       "    }\n",
       "\n",
       "    .dataframe tbody tr th {\n",
       "        vertical-align: top;\n",
       "    }\n",
       "\n",
       "    .dataframe thead th {\n",
       "        text-align: right;\n",
       "    }\n",
       "</style>\n",
       "<table border=\"1\" class=\"dataframe\">\n",
       "  <thead>\n",
       "    <tr style=\"text-align: right;\">\n",
       "      <th></th>\n",
       "      <th>pred_prob</th>\n",
       "      <th>predicted</th>\n",
       "      <th>actual</th>\n",
       "      <th>lyrics</th>\n",
       "    </tr>\n",
       "  </thead>\n",
       "  <tbody>\n",
       "    <tr>\n",
       "      <th>0</th>\n",
       "      <td>0.535908</td>\n",
       "      <td>1</td>\n",
       "      <td>1</td>\n",
       "      <td>Alls my life I has to fight, hittas\\nAlls my l...</td>\n",
       "    </tr>\n",
       "  </tbody>\n",
       "</table>\n",
       "</div>\n",
       "      <button class=\"colab-df-convert\" onclick=\"convertToInteractive('df-a85488aa-9d07-4ade-9e72-fbf85cbfd52e')\"\n",
       "              title=\"Convert this dataframe to an interactive table.\"\n",
       "              style=\"display:none;\">\n",
       "        \n",
       "  <svg xmlns=\"http://www.w3.org/2000/svg\" height=\"24px\"viewBox=\"0 0 24 24\"\n",
       "       width=\"24px\">\n",
       "    <path d=\"M0 0h24v24H0V0z\" fill=\"none\"/>\n",
       "    <path d=\"M18.56 5.44l.94 2.06.94-2.06 2.06-.94-2.06-.94-.94-2.06-.94 2.06-2.06.94zm-11 1L8.5 8.5l.94-2.06 2.06-.94-2.06-.94L8.5 2.5l-.94 2.06-2.06.94zm10 10l.94 2.06.94-2.06 2.06-.94-2.06-.94-.94-2.06-.94 2.06-2.06.94z\"/><path d=\"M17.41 7.96l-1.37-1.37c-.4-.4-.92-.59-1.43-.59-.52 0-1.04.2-1.43.59L10.3 9.45l-7.72 7.72c-.78.78-.78 2.05 0 2.83L4 21.41c.39.39.9.59 1.41.59.51 0 1.02-.2 1.41-.59l7.78-7.78 2.81-2.81c.8-.78.8-2.07 0-2.86zM5.41 20L4 18.59l7.72-7.72 1.47 1.35L5.41 20z\"/>\n",
       "  </svg>\n",
       "      </button>\n",
       "      \n",
       "  <style>\n",
       "    .colab-df-container {\n",
       "      display:flex;\n",
       "      flex-wrap:wrap;\n",
       "      gap: 12px;\n",
       "    }\n",
       "\n",
       "    .colab-df-convert {\n",
       "      background-color: #E8F0FE;\n",
       "      border: none;\n",
       "      border-radius: 50%;\n",
       "      cursor: pointer;\n",
       "      display: none;\n",
       "      fill: #1967D2;\n",
       "      height: 32px;\n",
       "      padding: 0 0 0 0;\n",
       "      width: 32px;\n",
       "    }\n",
       "\n",
       "    .colab-df-convert:hover {\n",
       "      background-color: #E2EBFA;\n",
       "      box-shadow: 0px 1px 2px rgba(60, 64, 67, 0.3), 0px 1px 3px 1px rgba(60, 64, 67, 0.15);\n",
       "      fill: #174EA6;\n",
       "    }\n",
       "\n",
       "    [theme=dark] .colab-df-convert {\n",
       "      background-color: #3B4455;\n",
       "      fill: #D2E3FC;\n",
       "    }\n",
       "\n",
       "    [theme=dark] .colab-df-convert:hover {\n",
       "      background-color: #434B5C;\n",
       "      box-shadow: 0px 1px 3px 1px rgba(0, 0, 0, 0.15);\n",
       "      filter: drop-shadow(0px 1px 2px rgba(0, 0, 0, 0.3));\n",
       "      fill: #FFFFFF;\n",
       "    }\n",
       "  </style>\n",
       "\n",
       "      <script>\n",
       "        const buttonEl =\n",
       "          document.querySelector('#df-a85488aa-9d07-4ade-9e72-fbf85cbfd52e button.colab-df-convert');\n",
       "        buttonEl.style.display =\n",
       "          google.colab.kernel.accessAllowed ? 'block' : 'none';\n",
       "\n",
       "        async function convertToInteractive(key) {\n",
       "          const element = document.querySelector('#df-a85488aa-9d07-4ade-9e72-fbf85cbfd52e');\n",
       "          const dataTable =\n",
       "            await google.colab.kernel.invokeFunction('convertToInteractive',\n",
       "                                                     [key], {});\n",
       "          if (!dataTable) return;\n",
       "\n",
       "          const docLinkHtml = 'Like what you see? Visit the ' +\n",
       "            '<a target=\"_blank\" href=https://colab.research.google.com/notebooks/data_table.ipynb>data table notebook</a>'\n",
       "            + ' to learn more about interactive tables.';\n",
       "          element.innerHTML = '';\n",
       "          dataTable['output_type'] = 'display_data';\n",
       "          await google.colab.output.renderOutput(dataTable, element);\n",
       "          const docLink = document.createElement('div');\n",
       "          docLink.innerHTML = docLinkHtml;\n",
       "          element.appendChild(docLink);\n",
       "        }\n",
       "      </script>\n",
       "    </div>\n",
       "  </div>\n",
       "  "
      ],
      "text/plain": [
       "  pred_prob predicted actual  \\\n",
       "0  0.535908         1      1   \n",
       "\n",
       "                                              lyrics  \n",
       "0  Alls my life I has to fight, hittas\\nAlls my l...  "
      ]
     },
     "execution_count": 186,
     "metadata": {},
     "output_type": "execute_result"
    }
   ],
   "source": [
    "ad_hoc_lyric_predict(lamar_lyrics_clean_version,1)"
   ]
  },
  {
   "cell_type": "markdown",
   "metadata": {
    "id": "lrt08nKEzkAw"
   },
   "source": [
    "Plotting Valence distribution of original MuSe dataset"
   ]
  },
  {
   "cell_type": "code",
   "execution_count": null,
   "metadata": {
    "colab": {
     "base_uri": "https://localhost:8080/",
     "height": 285
    },
    "id": "xx46eyub-YGC",
    "outputId": "307ba347-9878-42d4-d3f3-0807aea1a9c9"
   },
   "outputs": [
    {
     "data": {
      "image/png": "[encoded data removed]",
      "text/plain": [
       "<Figure size 432x288 with 1 Axes>"
      ]
     },
     "metadata": {},
     "output_type": "display_data"
    }
   ],
   "source": [
    "muse_tracks['valence_tags']\n",
    "sns.set(style=\"darkgrid\")\n",
    "fig = sns.kdeplot(muse_tracks['valence_tags'], shade=True, color=\"b\")\n",
    "plt.show()"
   ]
  },
  {
   "cell_type": "markdown",
   "metadata": {
    "id": "nlOI68En0Jzw"
   },
   "source": [
    "Plotting probability of valence for Billboard dataset"
   ]
  },
  {
   "cell_type": "code",
   "execution_count": null,
   "metadata": {
    "colab": {
     "base_uri": "https://localhost:8080/",
     "height": 301
    },
    "id": "VEzmxSbAdDdR",
    "outputId": "67fd9056-532d-4ee8-833c-9fd671c4935a"
   },
   "outputs": [
    {
     "data": {
      "image/png": "[encoded data removed]",
      "text/plain": [
       "<Figure size 432x288 with 1 Axes>"
      ]
     },
     "metadata": {},
     "output_type": "display_data"
    }
   ],
   "source": [
    "billboard_probs\n",
    "sns.set(style=\"darkgrid\")\n",
    "fig = sns.kdeplot(billboard_probs, shade=True, color=\"b\")\n",
    "plt.xlabel(\"Probabilities of Positive Lyrics\")\n",
    "plt.title(\"100 Top Billboards distribution that lyrics are positive\")\n",
    "plt.show()"
   ]
  },
  {
   "cell_type": "markdown",
   "metadata": {
    "id": "9Vpdv0qm2YnV"
   },
   "source": [
    "Plotting probability of valence for sample size of 2302. Dataset inner join with available lyrics which decreased it to 2302 songs."
   ]
  },
  {
   "cell_type": "code",
   "execution_count": 15,
   "metadata": {
    "colab": {
     "base_uri": "https://localhost:8080/",
     "height": 301
    },
    "id": "LnvvILtc8A1x",
    "outputId": "97341992-6ba6-4aea-9bd9-d346aac3bd42"
   },
   "outputs": [
    {
     "data": {
      "image/png": "[encoded data removed]",
      "text/plain": [
       "<Figure size 432x288 with 1 Axes>"
      ]
     },
     "metadata": {},
     "output_type": "display_data"
    }
   ],
   "source": [
    "muse_main['valence_tags']\n",
    "sns.set(style=\"darkgrid\")\n",
    "fig = sns.kdeplot(muse_main['valence_tags'], shade=True, color=\"b\")\n",
    "plt.xlabel(\"Valence\")\n",
    "plt.title(\"Valence Distribution of 2302 sample size of MuSe including lyrics\")\n",
    "plt.show()"
   ]
  },
  {
   "cell_type": "markdown",
   "metadata": {
    "id": "1Dk_t15a4K4U"
   },
   "source": [
    "Plotted Bert Pooled Predicted Distribution compared to LIWC distribution"
   ]
  },
  {
   "cell_type": "code",
   "execution_count": 552,
   "metadata": {
    "colab": {
     "base_uri": "https://localhost:8080/",
     "height": 301
    },
    "id": "-nc_N5cg_sjE",
    "outputId": "bec1fba4-3232-404d-d0cb-21bd2b1c3272"
   },
   "outputs": [
    {
     "data": {
      "image/png": "[encoded data removed]",
      "text/plain": [
       "<Figure size 432x288 with 1 Axes>"
      ]
     },
     "metadata": {},
     "output_type": "display_data"
    }
   ],
   "source": [
    "predictions_pooled_bert_test\n",
    "\n",
    "billboard_probs\n",
    "sns.set(style=\"darkgrid\")\n",
    "fig = sns.kdeplot(billboard_probs, shade=True, color=\"b\")\n",
    "fig = sns.kdeplot(np.ravel(predictions_pooled_bert_test), shade=True, color=\"r\")\n",
    "plt.xlabel(\"Probabilities of Positive Lyrics\")\n",
    "plt.title(\" 100 Top Billboard Distributions - Predicted Bert Pooled Model vs. LIWC\")\n",
    "plt.show()"
   ]
  },
  {
   "cell_type": "markdown",
   "metadata": {
    "id": "GEhcojnP4aF1"
   },
   "source": [
    "Plotted Bert CNN Predicted Distribution compared to LIWC distribution"
   ]
  },
  {
   "cell_type": "code",
   "execution_count": 573,
   "metadata": {
    "colab": {
     "base_uri": "https://localhost:8080/",
     "height": 301
    },
    "id": "puyejkuZGyZw",
    "outputId": "37bcd73b-d3c0-4f34-f0a8-f85b8f8031a2"
   },
   "outputs": [
    {
     "data": {
      "image/png": "[encoded data removed]",
      "text/plain": [
       "<Figure size 432x288 with 1 Axes>"
      ]
     },
     "metadata": {},
     "output_type": "display_data"
    }
   ],
   "source": [
    "predictions_cnn_probs\n",
    "billboard_probs\n",
    "sns.set(style=\"darkgrid\")\n",
    "fig = sns.kdeplot(billboard_probs, shade=True, color=\"b\")\n",
    "fig = sns.kdeplot(np.ravel(billboard_predicts_cnn), shade=True, color=\"r\")\n",
    "plt.xlabel(\"Probabilities of Positive Lyrics\")\n",
    "plt.title(\" 100 Top Billboard Distributions - Predicted Bert CNN Model vs. LIWC\")\n",
    "plt.show()"
   ]
  },
  {
   "cell_type": "markdown",
   "metadata": {
    "id": "LRpxgqSM6PK-"
   },
   "source": [
    "Conducting paired two tailed test. p-value is lower than .05, so rejected hypothesis that the means of the two distributions of the Predicted Bert CNN Model and LIWC model are simmilar."
   ]
  },
  {
   "cell_type": "code",
   "execution_count": 574,
   "metadata": {
    "colab": {
     "base_uri": "https://localhost:8080/"
    },
    "id": "MfU_5Oy_7z9q",
    "outputId": "5d26fc96-47e9-4eac-9874-da4553ac2d7e"
   },
   "outputs": [
    {
     "data": {
      "text/plain": [
       "Ttest_relResult(statistic=31.96899771371535, pvalue=3.516817338333877e-151)"
      ]
     },
     "execution_count": 574,
     "metadata": {},
     "output_type": "execute_result"
    }
   ],
   "source": [
    "stats.ttest_rel(billboard_probs, np.ravel(billboard_predicts_cnn))"
   ]
  }
 ],
 "metadata": {
  "accelerator": "GPU",
  "colab": {
   "machine_shape": "hm",
   "provenance": []
  },
  "gpuClass": "premium",
  "kernelspec": {
   "display_name": "Python 3",
   "name": "python3"
  },
  "language_info": {
   "name": "python"
  },
  "widgets": {
   "application/vnd.jupyter.widget-state+json": {
    "03307526555746109cc5fb259b6f6d8a": {
     "model_module": "@jupyter-widgets/base",
     "model_module_version": "1.2.0",
     "model_name": "LayoutModel",
     "state": {
      "_model_module": "@jupyter-widgets/base",
      "_model_module_version": "1.2.0",
      "_model_name": "LayoutModel",
      "_view_count": null,
      "_view_module": "@jupyter-widgets/base",
      "_view_module_version": "1.2.0",
      "_view_name": "LayoutView",
      "align_content": null,
      "align_items": null,
      "align_self": null,
      "border": null,
      "bottom": null,
      "display": null,
      "flex": null,
      "flex_flow": null,
      "grid_area": null,
      "grid_auto_columns": null,
      "grid_auto_flow": null,
      "grid_auto_rows": null,
      "grid_column": null,
      "grid_gap": null,
      "grid_row": null,
      "grid_template_areas": null,
      "grid_template_columns": null,
      "grid_template_rows": null,
      "height": null,
      "justify_content": null,
      "justify_items": null,
      "left": null,
      "margin": null,
      "max_height": null,
      "max_width": null,
      "min_height": null,
      "min_width": null,
      "object_fit": null,
      "object_position": null,
      "order": null,
      "overflow": null,
      "overflow_x": null,
      "overflow_y": null,
      "padding": null,
      "right": null,
      "top": null,
      "visibility": null,
      "width": null
     }
    },
    "03a92f1c7c9d4e68ae5bcd0bcb09f4f9": {
     "model_module": "@jupyter-widgets/controls",
     "model_module_version": "1.5.0",
     "model_name": "HTMLModel",
     "state": {
      "_dom_classes": [],
      "_model_module": "@jupyter-widgets/controls",
      "_model_module_version": "1.5.0",
      "_model_name": "HTMLModel",
      "_view_count": null,
      "_view_module": "@jupyter-widgets/controls",
      "_view_module_version": "1.5.0",
      "_view_name": "HTMLView",
      "description": "",
      "description_tooltip": null,
      "layout": "IPY_MODEL_273e3d858c40498a97c543fecd129fd9",
      "placeholder": "​",
      "style": "IPY_MODEL_833220ee445148db97e1af3947be6e33",
      "value": " 28.0/28.0 [00:00&lt;00:00, 1.01kB/s]"
     }
    },
    "05bbed30535f43b0abca37362e834462": {
     "model_module": "@jupyter-widgets/base",
     "model_module_version": "1.2.0",
     "model_name": "LayoutModel",
     "state": {
      "_model_module": "@jupyter-widgets/base",
      "_model_module_version": "1.2.0",
      "_model_name": "LayoutModel",
      "_view_count": null,
      "_view_module": "@jupyter-widgets/base",
      "_view_module_version": "1.2.0",
      "_view_name": "LayoutView",
      "align_content": null,
      "align_items": null,
      "align_self": null,
      "border": null,
      "bottom": null,
      "display": null,
      "flex": null,
      "flex_flow": null,
      "grid_area": null,
      "grid_auto_columns": null,
      "grid_auto_flow": null,
      "grid_auto_rows": null,
      "grid_column": null,
      "grid_gap": null,
      "grid_row": null,
      "grid_template_areas": null,
      "grid_template_columns": null,
      "grid_template_rows": null,
      "height": null,
      "justify_content": null,
      "justify_items": null,
      "left": null,
      "margin": null,
      "max_height": null,
      "max_width": null,
      "min_height": null,
      "min_width": null,
      "object_fit": null,
      "object_position": null,
      "order": null,
      "overflow": null,
      "overflow_x": null,
      "overflow_y": null,
      "padding": null,
      "right": null,
      "top": null,
      "visibility": null,
      "width": null
     }
    },
    "088c938bd7334a7c8d0e248041360383": {
     "model_module": "@jupyter-widgets/controls",
     "model_module_version": "1.5.0",
     "model_name": "ProgressStyleModel",
     "state": {
      "_model_module": "@jupyter-widgets/controls",
      "_model_module_version": "1.5.0",
      "_model_name": "ProgressStyleModel",
      "_view_count": null,
      "_view_module": "@jupyter-widgets/base",
      "_view_module_version": "1.2.0",
      "_view_name": "StyleView",
      "bar_color": null,
      "description_width": ""
     }
    },
    "0894ca05574d409ba1bc33ce260ead77": {
     "model_module": "@jupyter-widgets/controls",
     "model_module_version": "1.5.0",
     "model_name": "DescriptionStyleModel",
     "state": {
      "_model_module": "@jupyter-widgets/controls",
      "_model_module_version": "1.5.0",
      "_model_name": "DescriptionStyleModel",
      "_view_count": null,
      "_view_module": "@jupyter-widgets/base",
      "_view_module_version": "1.2.0",
      "_view_name": "StyleView",
      "description_width": ""
     }
    },
    "10f3db2d634748028e808163e5569973": {
     "model_module": "@jupyter-widgets/controls",
     "model_module_version": "1.5.0",
     "model_name": "ProgressStyleModel",
     "state": {
      "_model_module": "@jupyter-widgets/controls",
      "_model_module_version": "1.5.0",
      "_model_name": "ProgressStyleModel",
      "_view_count": null,
      "_view_module": "@jupyter-widgets/base",
      "_view_module_version": "1.2.0",
      "_view_name": "StyleView",
      "bar_color": null,
      "description_width": ""
     }
    },
    "1b936e63561d49389badd8d63ba45bc5": {
     "model_module": "@jupyter-widgets/controls",
     "model_module_version": "1.5.0",
     "model_name": "HBoxModel",
     "state": {
      "_dom_classes": [],
      "_model_module": "@jupyter-widgets/controls",
      "_model_module_version": "1.5.0",
      "_model_name": "HBoxModel",
      "_view_count": null,
      "_view_module": "@jupyter-widgets/controls",
      "_view_module_version": "1.5.0",
      "_view_name": "HBoxView",
      "box_style": "",
      "children": [
       "IPY_MODEL_25bb15117c274a02bb4bf5d14ecc6db8",
       "IPY_MODEL_4a593f7572e04bfc8e364c357e17cf37",
       "IPY_MODEL_963a7708cbb94747a389b9bd2df78244"
      ],
      "layout": "IPY_MODEL_67eda765b85248ac884a9d6ffa0366d2"
     }
    },
    "227b8b72b0df47059a8f6e60b037e492": {
     "model_module": "@jupyter-widgets/controls",
     "model_module_version": "1.5.0",
     "model_name": "DescriptionStyleModel",
     "state": {
      "_model_module": "@jupyter-widgets/controls",
      "_model_module_version": "1.5.0",
      "_model_name": "DescriptionStyleModel",
      "_view_count": null,
      "_view_module": "@jupyter-widgets/base",
      "_view_module_version": "1.2.0",
      "_view_name": "StyleView",
      "description_width": ""
     }
    },
    "25bb15117c274a02bb4bf5d14ecc6db8": {
     "model_module": "@jupyter-widgets/controls",
     "model_module_version": "1.5.0",
     "model_name": "HTMLModel",
     "state": {
      "_dom_classes": [],
      "_model_module": "@jupyter-widgets/controls",
      "_model_module_version": "1.5.0",
      "_model_name": "HTMLModel",
      "_view_count": null,
      "_view_module": "@jupyter-widgets/controls",
      "_view_module_version": "1.5.0",
      "_view_name": "HTMLView",
      "description": "",
      "description_tooltip": null,
      "layout": "IPY_MODEL_03307526555746109cc5fb259b6f6d8a",
      "placeholder": "​",
      "style": "IPY_MODEL_9cab190546004537a838a5b3917a995e",
      "value": "Downloading: 100%"
     }
    },
    "273e3d858c40498a97c543fecd129fd9": {
     "model_module": "@jupyter-widgets/base",
     "model_module_version": "1.2.0",
     "model_name": "LayoutModel",
     "state": {
      "_model_module": "@jupyter-widgets/base",
      "_model_module_version": "1.2.0",
      "_model_name": "LayoutModel",
      "_view_count": null,
      "_view_module": "@jupyter-widgets/base",
      "_view_module_version": "1.2.0",
      "_view_name": "LayoutView",
      "align_content": null,
      "align_items": null,
      "align_self": null,
      "border": null,
      "bottom": null,
      "display": null,
      "flex": null,
      "flex_flow": null,
      "grid_area": null,
      "grid_auto_columns": null,
      "grid_auto_flow": null,
      "grid_auto_rows": null,
      "grid_column": null,
      "grid_gap": null,
      "grid_row": null,
      "grid_template_areas": null,
      "grid_template_columns": null,
      "grid_template_rows": null,
      "height": null,
      "justify_content": null,
      "justify_items": null,
      "left": null,
      "margin": null,
      "max_height": null,
      "max_width": null,
      "min_height": null,
      "min_width": null,
      "object_fit": null,
      "object_position": null,
      "order": null,
      "overflow": null,
      "overflow_x": null,
      "overflow_y": null,
      "padding": null,
      "right": null,
      "top": null,
      "visibility": null,
      "width": null
     }
    },
    "2cf641e6a12b403689f34b8b4fdf0e84": {
     "model_module": "@jupyter-widgets/base",
     "model_module_version": "1.2.0",
     "model_name": "LayoutModel",
     "state": {
      "_model_module": "@jupyter-widgets/base",
      "_model_module_version": "1.2.0",
      "_model_name": "LayoutModel",
      "_view_count": null,
      "_view_module": "@jupyter-widgets/base",
      "_view_module_version": "1.2.0",
      "_view_name": "LayoutView",
      "align_content": null,
      "align_items": null,
      "align_self": null,
      "border": null,
      "bottom": null,
      "display": null,
      "flex": null,
      "flex_flow": null,
      "grid_area": null,
      "grid_auto_columns": null,
      "grid_auto_flow": null,
      "grid_auto_rows": null,
      "grid_column": null,
      "grid_gap": null,
      "grid_row": null,
      "grid_template_areas": null,
      "grid_template_columns": null,
      "grid_template_rows": null,
      "height": null,
      "justify_content": null,
      "justify_items": null,
      "left": null,
      "margin": null,
      "max_height": null,
      "max_width": null,
      "min_height": null,
      "min_width": null,
      "object_fit": null,
      "object_position": null,
      "order": null,
      "overflow": null,
      "overflow_x": null,
      "overflow_y": null,
      "padding": null,
      "right": null,
      "top": null,
      "visibility": null,
      "width": null
     }
    },
    "33e468559868434bb6e72c3e4378858f": {
     "model_module": "@jupyter-widgets/controls",
     "model_module_version": "1.5.0",
     "model_name": "FloatProgressModel",
     "state": {
      "_dom_classes": [],
      "_model_module": "@jupyter-widgets/controls",
      "_model_module_version": "1.5.0",
      "_model_name": "FloatProgressModel",
      "_view_count": null,
      "_view_module": "@jupyter-widgets/controls",
      "_view_module_version": "1.5.0",
      "_view_name": "ProgressView",
      "bar_style": "success",
      "description": "",
      "description_tooltip": null,
      "layout": "IPY_MODEL_5e3e908f505c4a90819ff86dbb9f5bc1",
      "max": 570,
      "min": 0,
      "orientation": "horizontal",
      "style": "IPY_MODEL_50ec98d080854186ab72d45921873839",
      "value": 570
     }
    },
    "34b62ccda42945df98264f9576b2f322": {
     "model_module": "@jupyter-widgets/base",
     "model_module_version": "1.2.0",
     "model_name": "LayoutModel",
     "state": {
      "_model_module": "@jupyter-widgets/base",
      "_model_module_version": "1.2.0",
      "_model_name": "LayoutModel",
      "_view_count": null,
      "_view_module": "@jupyter-widgets/base",
      "_view_module_version": "1.2.0",
      "_view_name": "LayoutView",
      "align_content": null,
      "align_items": null,
      "align_self": null,
      "border": null,
      "bottom": null,
      "display": null,
      "flex": null,
      "flex_flow": null,
      "grid_area": null,
      "grid_auto_columns": null,
      "grid_auto_flow": null,
      "grid_auto_rows": null,
      "grid_column": null,
      "grid_gap": null,
      "grid_row": null,
      "grid_template_areas": null,
      "grid_template_columns": null,
      "grid_template_rows": null,
      "height": null,
      "justify_content": null,
      "justify_items": null,
      "left": null,
      "margin": null,
      "max_height": null,
      "max_width": null,
      "min_height": null,
      "min_width": null,
      "object_fit": null,
      "object_position": null,
      "order": null,
      "overflow": null,
      "overflow_x": null,
      "overflow_y": null,
      "padding": null,
      "right": null,
      "top": null,
      "visibility": null,
      "width": null
     }
    },
    "367ca629d50a49ce8011e5957c9572ec": {
     "model_module": "@jupyter-widgets/controls",
     "model_module_version": "1.5.0",
     "model_name": "ProgressStyleModel",
     "state": {
      "_model_module": "@jupyter-widgets/controls",
      "_model_module_version": "1.5.0",
      "_model_name": "ProgressStyleModel",
      "_view_count": null,
      "_view_module": "@jupyter-widgets/base",
      "_view_module_version": "1.2.0",
      "_view_name": "StyleView",
      "bar_color": null,
      "description_width": ""
     }
    },
    "40aadc706ed14102be8d00d8af997a9f": {
     "model_module": "@jupyter-widgets/controls",
     "model_module_version": "1.5.0",
     "model_name": "HBoxModel",
     "state": {
      "_dom_classes": [],
      "_model_module": "@jupyter-widgets/controls",
      "_model_module_version": "1.5.0",
      "_model_name": "HBoxModel",
      "_view_count": null,
      "_view_module": "@jupyter-widgets/controls",
      "_view_module_version": "1.5.0",
      "_view_name": "HBoxView",
      "box_style": "",
      "children": [
       "IPY_MODEL_ba511777b7434f7baaa95b209a9b2280",
       "IPY_MODEL_8bd8a606c2e745f097e12b81750b0909",
       "IPY_MODEL_03a92f1c7c9d4e68ae5bcd0bcb09f4f9"
      ],
      "layout": "IPY_MODEL_05bbed30535f43b0abca37362e834462"
     }
    },
    "425a03a4854f43c6a155999482988135": {
     "model_module": "@jupyter-widgets/base",
     "model_module_version": "1.2.0",
     "model_name": "LayoutModel",
     "state": {
      "_model_module": "@jupyter-widgets/base",
      "_model_module_version": "1.2.0",
      "_model_name": "LayoutModel",
      "_view_count": null,
      "_view_module": "@jupyter-widgets/base",
      "_view_module_version": "1.2.0",
      "_view_name": "LayoutView",
      "align_content": null,
      "align_items": null,
      "align_self": null,
      "border": null,
      "bottom": null,
      "display": null,
      "flex": null,
      "flex_flow": null,
      "grid_area": null,
      "grid_auto_columns": null,
      "grid_auto_flow": null,
      "grid_auto_rows": null,
      "grid_column": null,
      "grid_gap": null,
      "grid_row": null,
      "grid_template_areas": null,
      "grid_template_columns": null,
      "grid_template_rows": null,
      "height": null,
      "justify_content": null,
      "justify_items": null,
      "left": null,
      "margin": null,
      "max_height": null,
      "max_width": null,
      "min_height": null,
      "min_width": null,
      "object_fit": null,
      "object_position": null,
      "order": null,
      "overflow": null,
      "overflow_x": null,
      "overflow_y": null,
      "padding": null,
      "right": null,
      "top": null,
      "visibility": null,
      "width": null
     }
    },
    "46a8a5dcfa7e46a698f71f29777a11c2": {
     "model_module": "@jupyter-widgets/base",
     "model_module_version": "1.2.0",
     "model_name": "LayoutModel",
     "state": {
      "_model_module": "@jupyter-widgets/base",
      "_model_module_version": "1.2.0",
      "_model_name": "LayoutModel",
      "_view_count": null,
      "_view_module": "@jupyter-widgets/base",
      "_view_module_version": "1.2.0",
      "_view_name": "LayoutView",
      "align_content": null,
      "align_items": null,
      "align_self": null,
      "border": null,
      "bottom": null,
      "display": null,
      "flex": null,
      "flex_flow": null,
      "grid_area": null,
      "grid_auto_columns": null,
      "grid_auto_flow": null,
      "grid_auto_rows": null,
      "grid_column": null,
      "grid_gap": null,
      "grid_row": null,
      "grid_template_areas": null,
      "grid_template_columns": null,
      "grid_template_rows": null,
      "height": null,
      "justify_content": null,
      "justify_items": null,
      "left": null,
      "margin": null,
      "max_height": null,
      "max_width": null,
      "min_height": null,
      "min_width": null,
      "object_fit": null,
      "object_position": null,
      "order": null,
      "overflow": null,
      "overflow_x": null,
      "overflow_y": null,
      "padding": null,
      "right": null,
      "top": null,
      "visibility": null,
      "width": null
     }
    },
    "4a593f7572e04bfc8e364c357e17cf37": {
     "model_module": "@jupyter-widgets/controls",
     "model_module_version": "1.5.0",
     "model_name": "FloatProgressModel",
     "state": {
      "_dom_classes": [],
      "_model_module": "@jupyter-widgets/controls",
      "_model_module_version": "1.5.0",
      "_model_name": "FloatProgressModel",
      "_view_count": null,
      "_view_module": "@jupyter-widgets/controls",
      "_view_module_version": "1.5.0",
      "_view_name": "ProgressView",
      "bar_style": "success",
      "description": "",
      "description_tooltip": null,
      "layout": "IPY_MODEL_a83dab10441d4e0d888af05f5fa55be8",
      "max": 231508,
      "min": 0,
      "orientation": "horizontal",
      "style": "IPY_MODEL_10f3db2d634748028e808163e5569973",
      "value": 231508
     }
    },
    "4bf2da63059f4dff8cda8a8a60c3752f": {
     "model_module": "@jupyter-widgets/controls",
     "model_module_version": "1.5.0",
     "model_name": "HTMLModel",
     "state": {
      "_dom_classes": [],
      "_model_module": "@jupyter-widgets/controls",
      "_model_module_version": "1.5.0",
      "_model_name": "HTMLModel",
      "_view_count": null,
      "_view_module": "@jupyter-widgets/controls",
      "_view_module_version": "1.5.0",
      "_view_name": "HTMLView",
      "description": "",
      "description_tooltip": null,
      "layout": "IPY_MODEL_b4bf9da5fea444a485916c58be805643",
      "placeholder": "​",
      "style": "IPY_MODEL_0894ca05574d409ba1bc33ce260ead77",
      "value": "Downloading: 100%"
     }
    },
    "50ec98d080854186ab72d45921873839": {
     "model_module": "@jupyter-widgets/controls",
     "model_module_version": "1.5.0",
     "model_name": "ProgressStyleModel",
     "state": {
      "_model_module": "@jupyter-widgets/controls",
      "_model_module_version": "1.5.0",
      "_model_name": "ProgressStyleModel",
      "_view_count": null,
      "_view_module": "@jupyter-widgets/base",
      "_view_module_version": "1.2.0",
      "_view_name": "StyleView",
      "bar_color": null,
      "description_width": ""
     }
    },
    "5886a5cc938d44ce9f2ab4d03449ac08": {
     "model_module": "@jupyter-widgets/controls",
     "model_module_version": "1.5.0",
     "model_name": "HTMLModel",
     "state": {
      "_dom_classes": [],
      "_model_module": "@jupyter-widgets/controls",
      "_model_module_version": "1.5.0",
      "_model_name": "HTMLModel",
      "_view_count": null,
      "_view_module": "@jupyter-widgets/controls",
      "_view_module_version": "1.5.0",
      "_view_name": "HTMLView",
      "description": "",
      "description_tooltip": null,
      "layout": "IPY_MODEL_46a8a5dcfa7e46a698f71f29777a11c2",
      "placeholder": "​",
      "style": "IPY_MODEL_227b8b72b0df47059a8f6e60b037e492",
      "value": " 570/570 [00:00&lt;00:00, 21.3kB/s]"
     }
    },
    "5e3e908f505c4a90819ff86dbb9f5bc1": {
     "model_module": "@jupyter-widgets/base",
     "model_module_version": "1.2.0",
     "model_name": "LayoutModel",
     "state": {
      "_model_module": "@jupyter-widgets/base",
      "_model_module_version": "1.2.0",
      "_model_name": "LayoutModel",
      "_view_count": null,
      "_view_module": "@jupyter-widgets/base",
      "_view_module_version": "1.2.0",
      "_view_name": "LayoutView",
      "align_content": null,
      "align_items": null,
      "align_self": null,
      "border": null,
      "bottom": null,
      "display": null,
      "flex": null,
      "flex_flow": null,
      "grid_area": null,
      "grid_auto_columns": null,
      "grid_auto_flow": null,
      "grid_auto_rows": null,
      "grid_column": null,
      "grid_gap": null,
      "grid_row": null,
      "grid_template_areas": null,
      "grid_template_columns": null,
      "grid_template_rows": null,
      "height": null,
      "justify_content": null,
      "justify_items": null,
      "left": null,
      "margin": null,
      "max_height": null,
      "max_width": null,
      "min_height": null,
      "min_width": null,
      "object_fit": null,
      "object_position": null,
      "order": null,
      "overflow": null,
      "overflow_x": null,
      "overflow_y": null,
      "padding": null,
      "right": null,
      "top": null,
      "visibility": null,
      "width": null
     }
    },
    "662d22e624d7449f9b0dff075b9f79fb": {
     "model_module": "@jupyter-widgets/base",
     "model_module_version": "1.2.0",
     "model_name": "LayoutModel",
     "state": {
      "_model_module": "@jupyter-widgets/base",
      "_model_module_version": "1.2.0",
      "_model_name": "LayoutModel",
      "_view_count": null,
      "_view_module": "@jupyter-widgets/base",
      "_view_module_version": "1.2.0",
      "_view_name": "LayoutView",
      "align_content": null,
      "align_items": null,
      "align_self": null,
      "border": null,
      "bottom": null,
      "display": null,
      "flex": null,
      "flex_flow": null,
      "grid_area": null,
      "grid_auto_columns": null,
      "grid_auto_flow": null,
      "grid_auto_rows": null,
      "grid_column": null,
      "grid_gap": null,
      "grid_row": null,
      "grid_template_areas": null,
      "grid_template_columns": null,
      "grid_template_rows": null,
      "height": null,
      "justify_content": null,
      "justify_items": null,
      "left": null,
      "margin": null,
      "max_height": null,
      "max_width": null,
      "min_height": null,
      "min_width": null,
      "object_fit": null,
      "object_position": null,
      "order": null,
      "overflow": null,
      "overflow_x": null,
      "overflow_y": null,
      "padding": null,
      "right": null,
      "top": null,
      "visibility": null,
      "width": null
     }
    },
    "67eda765b85248ac884a9d6ffa0366d2": {
     "model_module": "@jupyter-widgets/base",
     "model_module_version": "1.2.0",
     "model_name": "LayoutModel",
     "state": {
      "_model_module": "@jupyter-widgets/base",
      "_model_module_version": "1.2.0",
      "_model_name": "LayoutModel",
      "_view_count": null,
      "_view_module": "@jupyter-widgets/base",
      "_view_module_version": "1.2.0",
      "_view_name": "LayoutView",
      "align_content": null,
      "align_items": null,
      "align_self": null,
      "border": null,
      "bottom": null,
      "display": null,
      "flex": null,
      "flex_flow": null,
      "grid_area": null,
      "grid_auto_columns": null,
      "grid_auto_flow": null,
      "grid_auto_rows": null,
      "grid_column": null,
      "grid_gap": null,
      "grid_row": null,
      "grid_template_areas": null,
      "grid_template_columns": null,
      "grid_template_rows": null,
      "height": null,
      "justify_content": null,
      "justify_items": null,
      "left": null,
      "margin": null,
      "max_height": null,
      "max_width": null,
      "min_height": null,
      "min_width": null,
      "object_fit": null,
      "object_position": null,
      "order": null,
      "overflow": null,
      "overflow_x": null,
      "overflow_y": null,
      "padding": null,
      "right": null,
      "top": null,
      "visibility": null,
      "width": null
     }
    },
    "70469565e16b404397d9ec5619003e86": {
     "model_module": "@jupyter-widgets/controls",
     "model_module_version": "1.5.0",
     "model_name": "HTMLModel",
     "state": {
      "_dom_classes": [],
      "_model_module": "@jupyter-widgets/controls",
      "_model_module_version": "1.5.0",
      "_model_name": "HTMLModel",
      "_view_count": null,
      "_view_module": "@jupyter-widgets/controls",
      "_view_module_version": "1.5.0",
      "_view_name": "HTMLView",
      "description": "",
      "description_tooltip": null,
      "layout": "IPY_MODEL_e8d58127ccb142cf9a3da9a4d592aa46",
      "placeholder": "​",
      "style": "IPY_MODEL_aa87520cbc8743e795a3ec85f4882a06",
      "value": " 536M/536M [00:10&lt;00:00, 51.2MB/s]"
     }
    },
    "722547d78984496c9addc92ef9dec128": {
     "model_module": "@jupyter-widgets/controls",
     "model_module_version": "1.5.0",
     "model_name": "DescriptionStyleModel",
     "state": {
      "_model_module": "@jupyter-widgets/controls",
      "_model_module_version": "1.5.0",
      "_model_name": "DescriptionStyleModel",
      "_view_count": null,
      "_view_module": "@jupyter-widgets/base",
      "_view_module_version": "1.2.0",
      "_view_name": "StyleView",
      "description_width": ""
     }
    },
    "76aedae484b04866a06a225615ac3a93": {
     "model_module": "@jupyter-widgets/base",
     "model_module_version": "1.2.0",
     "model_name": "LayoutModel",
     "state": {
      "_model_module": "@jupyter-widgets/base",
      "_model_module_version": "1.2.0",
      "_model_name": "LayoutModel",
      "_view_count": null,
      "_view_module": "@jupyter-widgets/base",
      "_view_module_version": "1.2.0",
      "_view_name": "LayoutView",
      "align_content": null,
      "align_items": null,
      "align_self": null,
      "border": null,
      "bottom": null,
      "display": null,
      "flex": null,
      "flex_flow": null,
      "grid_area": null,
      "grid_auto_columns": null,
      "grid_auto_flow": null,
      "grid_auto_rows": null,
      "grid_column": null,
      "grid_gap": null,
      "grid_row": null,
      "grid_template_areas": null,
      "grid_template_columns": null,
      "grid_template_rows": null,
      "height": null,
      "justify_content": null,
      "justify_items": null,
      "left": null,
      "margin": null,
      "max_height": null,
      "max_width": null,
      "min_height": null,
      "min_width": null,
      "object_fit": null,
      "object_position": null,
      "order": null,
      "overflow": null,
      "overflow_x": null,
      "overflow_y": null,
      "padding": null,
      "right": null,
      "top": null,
      "visibility": null,
      "width": null
     }
    },
    "833220ee445148db97e1af3947be6e33": {
     "model_module": "@jupyter-widgets/controls",
     "model_module_version": "1.5.0",
     "model_name": "DescriptionStyleModel",
     "state": {
      "_model_module": "@jupyter-widgets/controls",
      "_model_module_version": "1.5.0",
      "_model_name": "DescriptionStyleModel",
      "_view_count": null,
      "_view_module": "@jupyter-widgets/base",
      "_view_module_version": "1.2.0",
      "_view_name": "StyleView",
      "description_width": ""
     }
    },
    "8bd8a606c2e745f097e12b81750b0909": {
     "model_module": "@jupyter-widgets/controls",
     "model_module_version": "1.5.0",
     "model_name": "FloatProgressModel",
     "state": {
      "_dom_classes": [],
      "_model_module": "@jupyter-widgets/controls",
      "_model_module_version": "1.5.0",
      "_model_name": "FloatProgressModel",
      "_view_count": null,
      "_view_module": "@jupyter-widgets/controls",
      "_view_module_version": "1.5.0",
      "_view_name": "ProgressView",
      "bar_style": "success",
      "description": "",
      "description_tooltip": null,
      "layout": "IPY_MODEL_34b62ccda42945df98264f9576b2f322",
      "max": 28,
      "min": 0,
      "orientation": "horizontal",
      "style": "IPY_MODEL_088c938bd7334a7c8d0e248041360383",
      "value": 28
     }
    },
    "9219e883be89455999041cfc20192f8f": {
     "model_module": "@jupyter-widgets/base",
     "model_module_version": "1.2.0",
     "model_name": "LayoutModel",
     "state": {
      "_model_module": "@jupyter-widgets/base",
      "_model_module_version": "1.2.0",
      "_model_name": "LayoutModel",
      "_view_count": null,
      "_view_module": "@jupyter-widgets/base",
      "_view_module_version": "1.2.0",
      "_view_name": "LayoutView",
      "align_content": null,
      "align_items": null,
      "align_self": null,
      "border": null,
      "bottom": null,
      "display": null,
      "flex": null,
      "flex_flow": null,
      "grid_area": null,
      "grid_auto_columns": null,
      "grid_auto_flow": null,
      "grid_auto_rows": null,
      "grid_column": null,
      "grid_gap": null,
      "grid_row": null,
      "grid_template_areas": null,
      "grid_template_columns": null,
      "grid_template_rows": null,
      "height": null,
      "justify_content": null,
      "justify_items": null,
      "left": null,
      "margin": null,
      "max_height": null,
      "max_width": null,
      "min_height": null,
      "min_width": null,
      "object_fit": null,
      "object_position": null,
      "order": null,
      "overflow": null,
      "overflow_x": null,
      "overflow_y": null,
      "padding": null,
      "right": null,
      "top": null,
      "visibility": null,
      "width": null
     }
    },
    "963a7708cbb94747a389b9bd2df78244": {
     "model_module": "@jupyter-widgets/controls",
     "model_module_version": "1.5.0",
     "model_name": "HTMLModel",
     "state": {
      "_dom_classes": [],
      "_model_module": "@jupyter-widgets/controls",
      "_model_module_version": "1.5.0",
      "_model_name": "HTMLModel",
      "_view_count": null,
      "_view_module": "@jupyter-widgets/controls",
      "_view_module_version": "1.5.0",
      "_view_name": "HTMLView",
      "description": "",
      "description_tooltip": null,
      "layout": "IPY_MODEL_76aedae484b04866a06a225615ac3a93",
      "placeholder": "​",
      "style": "IPY_MODEL_a3a075e2a7b44e6faaab1482a41f327f",
      "value": " 232k/232k [00:00&lt;00:00, 2.98MB/s]"
     }
    },
    "9cab190546004537a838a5b3917a995e": {
     "model_module": "@jupyter-widgets/controls",
     "model_module_version": "1.5.0",
     "model_name": "DescriptionStyleModel",
     "state": {
      "_model_module": "@jupyter-widgets/controls",
      "_model_module_version": "1.5.0",
      "_model_name": "DescriptionStyleModel",
      "_view_count": null,
      "_view_module": "@jupyter-widgets/base",
      "_view_module_version": "1.2.0",
      "_view_name": "StyleView",
      "description_width": ""
     }
    },
    "a3a075e2a7b44e6faaab1482a41f327f": {
     "model_module": "@jupyter-widgets/controls",
     "model_module_version": "1.5.0",
     "model_name": "DescriptionStyleModel",
     "state": {
      "_model_module": "@jupyter-widgets/controls",
      "_model_module_version": "1.5.0",
      "_model_name": "DescriptionStyleModel",
      "_view_count": null,
      "_view_module": "@jupyter-widgets/base",
      "_view_module_version": "1.2.0",
      "_view_name": "StyleView",
      "description_width": ""
     }
    },
    "a83dab10441d4e0d888af05f5fa55be8": {
     "model_module": "@jupyter-widgets/base",
     "model_module_version": "1.2.0",
     "model_name": "LayoutModel",
     "state": {
      "_model_module": "@jupyter-widgets/base",
      "_model_module_version": "1.2.0",
      "_model_name": "LayoutModel",
      "_view_count": null,
      "_view_module": "@jupyter-widgets/base",
      "_view_module_version": "1.2.0",
      "_view_name": "LayoutView",
      "align_content": null,
      "align_items": null,
      "align_self": null,
      "border": null,
      "bottom": null,
      "display": null,
      "flex": null,
      "flex_flow": null,
      "grid_area": null,
      "grid_auto_columns": null,
      "grid_auto_flow": null,
      "grid_auto_rows": null,
      "grid_column": null,
      "grid_gap": null,
      "grid_row": null,
      "grid_template_areas": null,
      "grid_template_columns": null,
      "grid_template_rows": null,
      "height": null,
      "justify_content": null,
      "justify_items": null,
      "left": null,
      "margin": null,
      "max_height": null,
      "max_width": null,
      "min_height": null,
      "min_width": null,
      "object_fit": null,
      "object_position": null,
      "order": null,
      "overflow": null,
      "overflow_x": null,
      "overflow_y": null,
      "padding": null,
      "right": null,
      "top": null,
      "visibility": null,
      "width": null
     }
    },
    "aa87520cbc8743e795a3ec85f4882a06": {
     "model_module": "@jupyter-widgets/controls",
     "model_module_version": "1.5.0",
     "model_name": "DescriptionStyleModel",
     "state": {
      "_model_module": "@jupyter-widgets/controls",
      "_model_module_version": "1.5.0",
      "_model_name": "DescriptionStyleModel",
      "_view_count": null,
      "_view_module": "@jupyter-widgets/base",
      "_view_module_version": "1.2.0",
      "_view_name": "StyleView",
      "description_width": ""
     }
    },
    "b4bf9da5fea444a485916c58be805643": {
     "model_module": "@jupyter-widgets/base",
     "model_module_version": "1.2.0",
     "model_name": "LayoutModel",
     "state": {
      "_model_module": "@jupyter-widgets/base",
      "_model_module_version": "1.2.0",
      "_model_name": "LayoutModel",
      "_view_count": null,
      "_view_module": "@jupyter-widgets/base",
      "_view_module_version": "1.2.0",
      "_view_name": "LayoutView",
      "align_content": null,
      "align_items": null,
      "align_self": null,
      "border": null,
      "bottom": null,
      "display": null,
      "flex": null,
      "flex_flow": null,
      "grid_area": null,
      "grid_auto_columns": null,
      "grid_auto_flow": null,
      "grid_auto_rows": null,
      "grid_column": null,
      "grid_gap": null,
      "grid_row": null,
      "grid_template_areas": null,
      "grid_template_columns": null,
      "grid_template_rows": null,
      "height": null,
      "justify_content": null,
      "justify_items": null,
      "left": null,
      "margin": null,
      "max_height": null,
      "max_width": null,
      "min_height": null,
      "min_width": null,
      "object_fit": null,
      "object_position": null,
      "order": null,
      "overflow": null,
      "overflow_x": null,
      "overflow_y": null,
      "padding": null,
      "right": null,
      "top": null,
      "visibility": null,
      "width": null
     }
    },
    "b755540d9a254d51b3cc33a3d2c68218": {
     "model_module": "@jupyter-widgets/controls",
     "model_module_version": "1.5.0",
     "model_name": "HBoxModel",
     "state": {
      "_dom_classes": [],
      "_model_module": "@jupyter-widgets/controls",
      "_model_module_version": "1.5.0",
      "_model_name": "HBoxModel",
      "_view_count": null,
      "_view_module": "@jupyter-widgets/controls",
      "_view_module_version": "1.5.0",
      "_view_name": "HBoxView",
      "box_style": "",
      "children": [
       "IPY_MODEL_4bf2da63059f4dff8cda8a8a60c3752f",
       "IPY_MODEL_dd79f6f3767b4337bae4f1e73016a467",
       "IPY_MODEL_70469565e16b404397d9ec5619003e86"
      ],
      "layout": "IPY_MODEL_662d22e624d7449f9b0dff075b9f79fb"
     }
    },
    "ba511777b7434f7baaa95b209a9b2280": {
     "model_module": "@jupyter-widgets/controls",
     "model_module_version": "1.5.0",
     "model_name": "HTMLModel",
     "state": {
      "_dom_classes": [],
      "_model_module": "@jupyter-widgets/controls",
      "_model_module_version": "1.5.0",
      "_model_name": "HTMLModel",
      "_view_count": null,
      "_view_module": "@jupyter-widgets/controls",
      "_view_module_version": "1.5.0",
      "_view_name": "HTMLView",
      "description": "",
      "description_tooltip": null,
      "layout": "IPY_MODEL_e16150386d544f3e8d6002be8be17f8a",
      "placeholder": "​",
      "style": "IPY_MODEL_722547d78984496c9addc92ef9dec128",
      "value": "Downloading: 100%"
     }
    },
    "be52489069254091b0f36600c671ec14": {
     "model_module": "@jupyter-widgets/controls",
     "model_module_version": "1.5.0",
     "model_name": "DescriptionStyleModel",
     "state": {
      "_model_module": "@jupyter-widgets/controls",
      "_model_module_version": "1.5.0",
      "_model_name": "DescriptionStyleModel",
      "_view_count": null,
      "_view_module": "@jupyter-widgets/base",
      "_view_module_version": "1.2.0",
      "_view_name": "StyleView",
      "description_width": ""
     }
    },
    "c7d9f3fddd2b4c5db94a7f57b4af2a92": {
     "model_module": "@jupyter-widgets/controls",
     "model_module_version": "1.5.0",
     "model_name": "HBoxModel",
     "state": {
      "_dom_classes": [],
      "_model_module": "@jupyter-widgets/controls",
      "_model_module_version": "1.5.0",
      "_model_name": "HBoxModel",
      "_view_count": null,
      "_view_module": "@jupyter-widgets/controls",
      "_view_module_version": "1.5.0",
      "_view_name": "HBoxView",
      "box_style": "",
      "children": [
       "IPY_MODEL_cab1bef02ba9435a837e05ca34f8aea7",
       "IPY_MODEL_33e468559868434bb6e72c3e4378858f",
       "IPY_MODEL_5886a5cc938d44ce9f2ab4d03449ac08"
      ],
      "layout": "IPY_MODEL_9219e883be89455999041cfc20192f8f"
     }
    },
    "cab1bef02ba9435a837e05ca34f8aea7": {
     "model_module": "@jupyter-widgets/controls",
     "model_module_version": "1.5.0",
     "model_name": "HTMLModel",
     "state": {
      "_dom_classes": [],
      "_model_module": "@jupyter-widgets/controls",
      "_model_module_version": "1.5.0",
      "_model_name": "HTMLModel",
      "_view_count": null,
      "_view_module": "@jupyter-widgets/controls",
      "_view_module_version": "1.5.0",
      "_view_name": "HTMLView",
      "description": "",
      "description_tooltip": null,
      "layout": "IPY_MODEL_2cf641e6a12b403689f34b8b4fdf0e84",
      "placeholder": "​",
      "style": "IPY_MODEL_be52489069254091b0f36600c671ec14",
      "value": "Downloading: 100%"
     }
    },
    "dd79f6f3767b4337bae4f1e73016a467": {
     "model_module": "@jupyter-widgets/controls",
     "model_module_version": "1.5.0",
     "model_name": "FloatProgressModel",
     "state": {
      "_dom_classes": [],
      "_model_module": "@jupyter-widgets/controls",
      "_model_module_version": "1.5.0",
      "_model_name": "FloatProgressModel",
      "_view_count": null,
      "_view_module": "@jupyter-widgets/controls",
      "_view_module_version": "1.5.0",
      "_view_name": "ProgressView",
      "bar_style": "success",
      "description": "",
      "description_tooltip": null,
      "layout": "IPY_MODEL_425a03a4854f43c6a155999482988135",
      "max": 536063208,
      "min": 0,
      "orientation": "horizontal",
      "style": "IPY_MODEL_367ca629d50a49ce8011e5957c9572ec",
      "value": 536063208
     }
    },
    "e16150386d544f3e8d6002be8be17f8a": {
     "model_module": "@jupyter-widgets/base",
     "model_module_version": "1.2.0",
     "model_name": "LayoutModel",
     "state": {
      "_model_module": "@jupyter-widgets/base",
      "_model_module_version": "1.2.0",
      "_model_name": "LayoutModel",
      "_view_count": null,
      "_view_module": "@jupyter-widgets/base",
      "_view_module_version": "1.2.0",
      "_view_name": "LayoutView",
      "align_content": null,
      "align_items": null,
      "align_self": null,
      "border": null,
      "bottom": null,
      "display": null,
      "flex": null,
      "flex_flow": null,
      "grid_area": null,
      "grid_auto_columns": null,
      "grid_auto_flow": null,
      "grid_auto_rows": null,
      "grid_column": null,
      "grid_gap": null,
      "grid_row": null,
      "grid_template_areas": null,
      "grid_template_columns": null,
      "grid_template_rows": null,
      "height": null,
      "justify_content": null,
      "justify_items": null,
      "left": null,
      "margin": null,
      "max_height": null,
      "max_width": null,
      "min_height": null,
      "min_width": null,
      "object_fit": null,
      "object_position": null,
      "order": null,
      "overflow": null,
      "overflow_x": null,
      "overflow_y": null,
      "padding": null,
      "right": null,
      "top": null,
      "visibility": null,
      "width": null
     }
    },
    "e8d58127ccb142cf9a3da9a4d592aa46": {
     "model_module": "@jupyter-widgets/base",
     "model_module_version": "1.2.0",
     "model_name": "LayoutModel",
     "state": {
      "_model_module": "@jupyter-widgets/base",
      "_model_module_version": "1.2.0",
      "_model_name": "LayoutModel",
      "_view_count": null,
      "_view_module": "@jupyter-widgets/base",
      "_view_module_version": "1.2.0",
      "_view_name": "LayoutView",
      "align_content": null,
      "align_items": null,
      "align_self": null,
      "border": null,
      "bottom": null,
      "display": null,
      "flex": null,
      "flex_flow": null,
      "grid_area": null,
      "grid_auto_columns": null,
      "grid_auto_flow": null,
      "grid_auto_rows": null,
      "grid_column": null,
      "grid_gap": null,
      "grid_row": null,
      "grid_template_areas": null,
      "grid_template_columns": null,
      "grid_template_rows": null,
      "height": null,
      "justify_content": null,
      "justify_items": null,
      "left": null,
      "margin": null,
      "max_height": null,
      "max_width": null,
      "min_height": null,
      "min_width": null,
      "object_fit": null,
      "object_position": null,
      "order": null,
      "overflow": null,
      "overflow_x": null,
      "overflow_y": null,
      "padding": null,
      "right": null,
      "top": null,
      "visibility": null,
      "width": null
     }
    }
   }
  }
 },
 "nbformat": 4,
 "nbformat_minor": 0
}
